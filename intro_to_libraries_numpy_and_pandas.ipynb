{
 "cells": [
  {
   "cell_type": "markdown",
   "metadata": {},
   "source": [
    "# Module 1 - Introducing Libraries: NumPy and Pandas\n",
    "## Pandas Part 1"
   ]
  },
  {
   "cell_type": "markdown",
   "metadata": {},
   "source": [
    "### Introduction\n",
    "\n",
    "![austin](http://www.austintexas.gov/sites/default/files/aac_logo.jpg)\n",
    "You have decided that you want to start your own animal shelter, but you want to get an idea of what that will entail and get more information about planning. You have found out that Austin has one of the largest no-kill animal shelters in the country, and they keep meticulous track of animals that have been taken in and released. However, it is a large file, the online visualization tools provided are terrible, the data is sorted as strings, and the file holds an overwhelming amount  of information. Is there an easy way to look at this data? Can we do this with base Python? Is there a better way?\n",
    "\n",
    "\n",
    "#### _Our goals today are to be able to_: <br/>\n",
    "\n",
    "- Identify and import Python libraries\n",
    "- Identify differences between NumPy and base Python in usage and operation\n",
    "- Import/read data using Pandas\n",
    "- Identify Pandas objects and manipulate Pandas objects by index and columns\n",
    "- Filter data using Pandas\n",
    "\n",
    "#### _Big questions for this lesson_: <br/>\n",
    "- What is a package, what do packages do, and why might we want to use them?\n",
    "- When do we want to use NumPy versus Pandas?\n",
    "- What are the advantages of using Pandas?"
   ]
  },
  {
   "cell_type": "markdown",
   "metadata": {},
   "source": [
    "### Activation:\n",
    "\n",
    "![excel](excelpic.jpg)\n",
    "\n",
    "Most people have used Microsoft Excel or Google sheets. But what are the limitations of excel?\n",
    "\n",
    "- [Take a minute to read this article](https://www.bbc.com/news/magazine-22223190)\n",
    "- make a list of problems excel presents\n",
    "\n",
    "How is using python different?"
   ]
  },
  {
   "cell_type": "markdown",
   "metadata": {},
   "source": [
    "### 1. Importing Python Libraries\n",
    "\n",
    "\n",
    "In an earlier lesson, we wrote a function to calculate the mean of an list. That was **tedious**.\n",
    "\n",
    "Thankfully, other people have wrote and optimized functions and wrapped them into `libraries` we can then call and use in our analysis.\n",
    "\n",
    "![numpy](https://raw.githubusercontent.com/donnemartin/data-science-ipython-notebooks/master/images/numpy.png)\n",
    "\n",
    "[NumPy](https://www.numpy.org/) is the fundamental package for scientific computing with Python. \n",
    "\n",
    "\n",
    "To import a package type `import` followed by the name of the library as shown below."
   ]
  },
  {
   "cell_type": "code",
   "execution_count": 1,
   "metadata": {},
   "outputs": [
    {
     "name": "stdout",
     "output_type": "stream",
     "text": [
      "[1 2 3]\n",
      "[4 5 6]\n"
     ]
    }
   ],
   "source": [
    "import numpy \n",
    "\n",
    "x=numpy.array([1,2,3])\n",
    "print(x)\n",
    "\n",
    "#most packages have a standard way to import them\n",
    "import numpy as np\n",
    "\n",
    "y=np.array([4,5,6])\n",
    "print(y)"
   ]
  },
  {
   "cell_type": "markdown",
   "metadata": {},
   "source": [
    "Because of numpy we can now get the **mean** and other quick math of lists and arrays."
   ]
  },
  {
   "cell_type": "code",
   "execution_count": 2,
   "metadata": {},
   "outputs": [
    {
     "name": "stdout",
     "output_type": "stream",
     "text": [
      "25.666666666666668\n"
     ]
    }
   ],
   "source": [
    "example = [4,3,25,40,62,20]\n",
    "print(np.mean(example))"
   ]
  },
  {
   "cell_type": "markdown",
   "metadata": {},
   "source": [
    "Now let's import some other packages. We will cover in more detail some fun options for numpy later."
   ]
  },
  {
   "cell_type": "code",
   "execution_count": 3,
   "metadata": {},
   "outputs": [],
   "source": [
    "import scipy\n",
    "import pandas as pd\n",
    "import matplotlib as mpl"
   ]
  },
  {
   "cell_type": "code",
   "execution_count": null,
   "metadata": {},
   "outputs": [],
   "source": [
    "#sometimes we will want to import a specific module from a library\n",
    "import matplotlib.pyplot as plt\n",
    "\n",
    "plt.plot(x,y)"
   ]
  },
  {
   "cell_type": "code",
   "execution_count": null,
   "metadata": {},
   "outputs": [],
   "source": [
    "#OR we can also import it this way\n",
    "\n",
    "from matplotlib import pyplot as plt \n",
    "plt.plot(x,y)"
   ]
  },
  {
   "cell_type": "markdown",
   "metadata": {},
   "source": [
    "Try importing the seaborn library as ['sns'](https://en.wikipedia.org/wiki/Sam_Seaborn) which is the convention."
   ]
  },
  {
   "cell_type": "code",
   "execution_count": null,
   "metadata": {},
   "outputs": [],
   "source": [
    "#type your code here!"
   ]
  },
  {
   "cell_type": "markdown",
   "metadata": {},
   "source": [
    "What happens if we mess with naming conventions? For example, import one of our previous libraries as print.\n",
    "\n",
    "\n",
    "PLEASE NOTE THAT WE WILL HAVE TO RESET THE KERNEL AFTER RUNNING THIS. Comment out your code after running it.\n"
   ]
  },
  {
   "cell_type": "code",
   "execution_count": null,
   "metadata": {},
   "outputs": [],
   "source": [
    "#your code here!"
   ]
  },
  {
   "cell_type": "code",
   "execution_count": null,
   "metadata": {},
   "outputs": [],
   "source": [
    "#Did we get an error? What about when we run the following command?\n",
    "\n",
    "print(x)\n",
    "\n",
    "#Restart your kernel and clear cells"
   ]
  },
  {
   "cell_type": "markdown",
   "metadata": {},
   "source": [
    "#### Helpful links: library documenation\n",
    "\n",
    "Libraries have associated documentation to explain how to use the different tools included in a library.\n",
    "\n",
    "- [NumPy](https://docs.scipy.org/doc/numpy/)\n",
    "- [SciPy](https://docs.scipy.org/doc/scipy/reference/)\n",
    "- [Pandas](http://pandas.pydata.org/pandas-docs/stable/)\n",
    "- [Matplotlib](https://matplotlib.org/contents.html)"
   ]
  },
  {
   "cell_type": "markdown",
   "metadata": {},
   "source": [
    "### 2. NumPy versus base Python\n",
    "\n",
    "Now that we know libraries exist, why do we want to use them? Let us examine a comparison between base Python and Numpy.\n",
    "\n",
    "Python has lists and normal python can do basic math. NumPy, however, has the helpful objects called arrays.\n",
    "\n",
    "Numpy has a few advantages over base Python which we will look at."
   ]
  },
  {
   "cell_type": "code",
   "execution_count": 4,
   "metadata": {},
   "outputs": [
    {
     "name": "stdout",
     "output_type": "stream",
     "text": [
      "['Bob', 'John', 'Sally']\n",
      "['Bob' 'John' 'Sally']\n"
     ]
    }
   ],
   "source": [
    "names_list=['Bob','John','Sally']\n",
    "names_array=numpy.char.array(['Bob','John','Sally']) #use numpy.array for numbers and numpy.char.array for strings\n",
    "print(names_list)\n",
    "print(names_array)"
   ]
  },
  {
   "cell_type": "code",
   "execution_count": 5,
   "metadata": {},
   "outputs": [],
   "source": [
    "# Make a list and an array of three numbers\n",
    "\n",
    "#your code here\n",
    "numbers_list = [1, 2, 3]\n",
    "numbers_array = numpy.array([1, 2, 3])"
   ]
  },
  {
   "cell_type": "code",
   "execution_count": 6,
   "metadata": {},
   "outputs": [
    {
     "data": {
      "text/plain": [
       "array([0.5, 1. , 1.5])"
      ]
     },
     "execution_count": 6,
     "metadata": {},
     "output_type": "execute_result"
    }
   ],
   "source": [
    "# divide your array by 2\n",
    "\n",
    "numbers_array/2"
   ]
  },
  {
   "cell_type": "code",
   "execution_count": 7,
   "metadata": {},
   "outputs": [
    {
     "ename": "TypeError",
     "evalue": "unsupported operand type(s) for /: 'list' and 'int'",
     "output_type": "error",
     "traceback": [
      "\u001b[0;31m---------------------------------------------------------------------------\u001b[0m",
      "\u001b[0;31mTypeError\u001b[0m                                 Traceback (most recent call last)",
      "\u001b[0;32m<ipython-input-7-a9b88a30b652>\u001b[0m in \u001b[0;36m<module>\u001b[0;34m()\u001b[0m\n\u001b[1;32m      1\u001b[0m \u001b[0;31m# divide your list by 2\u001b[0m\u001b[0;34m\u001b[0m\u001b[0;34m\u001b[0m\u001b[0m\n\u001b[1;32m      2\u001b[0m \u001b[0;34m\u001b[0m\u001b[0m\n\u001b[0;32m----> 3\u001b[0;31m \u001b[0mnumbers_list\u001b[0m\u001b[0;34m/\u001b[0m\u001b[0;36m2\u001b[0m\u001b[0;34m\u001b[0m\u001b[0m\n\u001b[0m",
      "\u001b[0;31mTypeError\u001b[0m: unsupported operand type(s) for /: 'list' and 'int'"
     ]
    }
   ],
   "source": [
    "# divide your list by 2\n",
    "\n",
    "numbers_list/2"
   ]
  },
  {
   "cell_type": "markdown",
   "metadata": {},
   "source": [
    "Numpy arrays support the \\_div\\_ operator while python lists do not. There are other things that make it useful to utilize numpy over base python for evaluating data.\n",
    "\n",
    "Below, you will find a piece of code we will use to compare the speed of operations on a list and operations on an array. In this speed test, we will use the library [time](https://docs.python.org/3/library/time.html)."
   ]
  },
  {
   "cell_type": "code",
   "execution_count": 8,
   "metadata": {},
   "outputs": [
    {
     "name": "stdout",
     "output_type": "stream",
     "text": [
      "python: 0.3548390865325928 numpy: 0.017703771591186523\n",
      "Numpy is in this example 20.043135142414652 times faster!\n"
     ]
    }
   ],
   "source": [
    "import time\n",
    "import numpy as np\n",
    "\n",
    "size_of_vec = 1300000\n",
    "\n",
    "def pure_python_version():\n",
    "    t1 = time.time()\n",
    "    X = range(size_of_vec)\n",
    "    Y = range(size_of_vec)\n",
    "    Z = [X[i] + Y[i] for i in range(len(X)) ]\n",
    "    return time.time() - t1\n",
    "\n",
    "def numpy_version():\n",
    "    t1 = time.time()\n",
    "    X = np.arange(size_of_vec)\n",
    "    Y = np.arange(size_of_vec)\n",
    "    Z = X + Y\n",
    "    return time.time() - t1\n",
    "\n",
    "\n",
    "t1 = pure_python_version()\n",
    "t2 = numpy_version()\n",
    "print(\"python: \" + str(t1), \"numpy: \"+ str(t2))\n",
    "print(\"Numpy is in this example \" + str(t1/t2) + \" times faster!\")"
   ]
  },
  {
   "cell_type": "markdown",
   "metadata": {},
   "source": [
    "In pairs, run the speed test with a different number, and share your results with the class."
   ]
  },
  {
   "cell_type": "markdown",
   "metadata": {},
   "source": [
    "### 3. Importing and reading data with ACTUAL LITERAL Pandas!\n",
    "\n",
    "\n",
    "![pandas-lib](https://pandas.pydata.org/_static/pandas_logo.png)\n",
    "\n",
    "![alt text](https://cdn-images-1.medium.com/max/1600/1*oBx032ncOwLmCFX3Epo3Zg.jpeg \"https://cdn-images-1.medium.com/max/1600/1*oBx032ncOwLmCFX3Epo3Zg.jpeg\")\n",
    "\n",
    "#### Let's use pandas to read some csv files so we can interact with them.\n",
    "\n",
    "First, let's check which directory we are in so the files we expect to see are there."
   ]
  },
  {
   "cell_type": "code",
   "execution_count": 9,
   "metadata": {},
   "outputs": [
    {
     "name": "stdout",
     "output_type": "stream",
     "text": [
      "/Users/flatironstudentaccount/Desktop/CourseMaterials/Section01/houston-ds-042219-intro_libraries_numpy_and_pandas\n",
      "total 232\n",
      "drwxr-xr-x  10 flatironstudentaccount  staff    320 Apr 24 15:52 \u001b[34m.\u001b[m\u001b[m\n",
      "drwxr-xr-x  12 flatironstudentaccount  staff    384 Apr 24 15:31 \u001b[34m..\u001b[m\u001b[m\n",
      "drwxr-xr-x  13 flatironstudentaccount  staff    416 Apr 24 15:32 \u001b[34m.git\u001b[m\u001b[m\n",
      "drwxr-xr-x   3 flatironstudentaccount  staff     96 Apr 24 15:34 \u001b[34m.ipynb_checkpoints\u001b[m\u001b[m\n",
      "-rw-r--r--   1 flatironstudentaccount  staff     52 Apr 24 15:32 README.md\n",
      "-rw-r--r--   1 flatironstudentaccount  staff     62 Apr 24 15:32 example1.csv\n",
      "-rw-r--r--   1 flatironstudentaccount  staff  63117 Apr 24 15:32 excelpic.jpg\n",
      "-rw-r--r--   1 flatironstudentaccount  staff  30476 Apr 24 15:52 intro_to_libraries_numpy_and_pandas.ipynb\n",
      "-rw-r--r--   1 flatironstudentaccount  staff   6782 Apr 24 15:32 lesson_plan.md\n",
      "-rw-r--r--   1 flatironstudentaccount  staff    238 Apr 24 15:32 made_up_jobs.csv\n"
     ]
    }
   ],
   "source": [
    "!pwd\n",
    "!ls -al"
   ]
  },
  {
   "cell_type": "markdown",
   "metadata": {},
   "source": [
    "Did you see that? It is possible to run terminal commands from jupyter notebook by using `!`"
   ]
  },
  {
   "cell_type": "code",
   "execution_count": 10,
   "metadata": {},
   "outputs": [],
   "source": [
    "import pandas as pd\n",
    "example_csv=pd.read_csv('example1.csv')"
   ]
  },
  {
   "cell_type": "markdown",
   "metadata": {},
   "source": [
    "There are also `read_excel` and many other pandas `read` functions."
   ]
  },
  {
   "cell_type": "code",
   "execution_count": 11,
   "metadata": {},
   "outputs": [
    {
     "data": {
      "text/html": [
       "<div>\n",
       "<style scoped>\n",
       "    .dataframe tbody tr th:only-of-type {\n",
       "        vertical-align: middle;\n",
       "    }\n",
       "\n",
       "    .dataframe tbody tr th {\n",
       "        vertical-align: top;\n",
       "    }\n",
       "\n",
       "    .dataframe thead th {\n",
       "        text-align: right;\n",
       "    }\n",
       "</style>\n",
       "<table border=\"1\" class=\"dataframe\">\n",
       "  <thead>\n",
       "    <tr style=\"text-align: right;\">\n",
       "      <th></th>\n",
       "      <th>Title1</th>\n",
       "      <th>Title2</th>\n",
       "      <th>Title3</th>\n",
       "    </tr>\n",
       "  </thead>\n",
       "  <tbody>\n",
       "    <tr>\n",
       "      <th>0</th>\n",
       "      <td>one</td>\n",
       "      <td>two</td>\n",
       "      <td>three</td>\n",
       "    </tr>\n",
       "    <tr>\n",
       "      <th>1</th>\n",
       "      <td>example1</td>\n",
       "      <td>example2</td>\n",
       "      <td>example3</td>\n",
       "    </tr>\n",
       "  </tbody>\n",
       "</table>\n",
       "</div>"
      ],
      "text/plain": [
       "     Title1    Title2    Title3\n",
       "0       one       two     three\n",
       "1  example1  example2  example3"
      ]
     },
     "execution_count": 11,
     "metadata": {},
     "output_type": "execute_result"
    }
   ],
   "source": [
    "example_csv.head() #this is an example template of how to read a csv"
   ]
  },
  {
   "cell_type": "markdown",
   "metadata": {},
   "source": [
    "Try loading in the example file in the directory called 'made_up_jobs.csv' using pandas."
   ]
  },
  {
   "cell_type": "code",
   "execution_count": 12,
   "metadata": {},
   "outputs": [
    {
     "data": {
      "text/html": [
       "<div>\n",
       "<style scoped>\n",
       "    .dataframe tbody tr th:only-of-type {\n",
       "        vertical-align: middle;\n",
       "    }\n",
       "\n",
       "    .dataframe tbody tr th {\n",
       "        vertical-align: top;\n",
       "    }\n",
       "\n",
       "    .dataframe thead th {\n",
       "        text-align: right;\n",
       "    }\n",
       "</style>\n",
       "<table border=\"1\" class=\"dataframe\">\n",
       "  <thead>\n",
       "    <tr style=\"text-align: right;\">\n",
       "      <th></th>\n",
       "      <th>ID</th>\n",
       "      <th>Name</th>\n",
       "      <th>Job</th>\n",
       "      <th>Years Employed</th>\n",
       "    </tr>\n",
       "  </thead>\n",
       "  <tbody>\n",
       "    <tr>\n",
       "      <th>0</th>\n",
       "      <td>0</td>\n",
       "      <td>Bob Bobberty</td>\n",
       "      <td>Underwater Basket Weaver</td>\n",
       "      <td>13</td>\n",
       "    </tr>\n",
       "    <tr>\n",
       "      <th>1</th>\n",
       "      <td>1</td>\n",
       "      <td>Susan Smells</td>\n",
       "      <td>Salad Spinner</td>\n",
       "      <td>5</td>\n",
       "    </tr>\n",
       "    <tr>\n",
       "      <th>2</th>\n",
       "      <td>2</td>\n",
       "      <td>Alex Lastname</td>\n",
       "      <td>Productivity Manager</td>\n",
       "      <td>2</td>\n",
       "    </tr>\n",
       "    <tr>\n",
       "      <th>3</th>\n",
       "      <td>3</td>\n",
       "      <td>Rudy P.</td>\n",
       "      <td>Being cool</td>\n",
       "      <td>55</td>\n",
       "    </tr>\n",
       "    <tr>\n",
       "      <th>4</th>\n",
       "      <td>4</td>\n",
       "      <td>Rudy G.</td>\n",
       "      <td>Being compared to Rudy P</td>\n",
       "      <td>50</td>\n",
       "    </tr>\n",
       "  </tbody>\n",
       "</table>\n",
       "</div>"
      ],
      "text/plain": [
       "   ID           Name                       Job  Years Employed\n",
       "0   0   Bob Bobberty  Underwater Basket Weaver              13\n",
       "1   1   Susan Smells             Salad Spinner               5\n",
       "2   2  Alex Lastname      Productivity Manager               2\n",
       "3   3        Rudy P.                Being cool              55\n",
       "4   4        Rudy G.  Being compared to Rudy P              50"
      ]
     },
     "execution_count": 12,
     "metadata": {},
     "output_type": "execute_result"
    }
   ],
   "source": [
    "#read in your csv here!\n",
    "made_up_jobs = pd.read_csv('made_up_jobs.csv')\n",
    "\n",
    "\n",
    "#remember that it's nice to be able to look at your data, so let's do that here, too.\n",
    "made_up_jobs.head()\n"
   ]
  },
  {
   "cell_type": "markdown",
   "metadata": {},
   "source": [
    "You can also load in data by using the url of an associated dataset."
   ]
  },
  {
   "cell_type": "code",
   "execution_count": 16,
   "metadata": {},
   "outputs": [
    {
     "data": {
      "text/html": [
       "<div>\n",
       "<style scoped>\n",
       "    .dataframe tbody tr th:only-of-type {\n",
       "        vertical-align: middle;\n",
       "    }\n",
       "\n",
       "    .dataframe tbody tr th {\n",
       "        vertical-align: top;\n",
       "    }\n",
       "\n",
       "    .dataframe thead th {\n",
       "        text-align: right;\n",
       "    }\n",
       "</style>\n",
       "<table border=\"1\" class=\"dataframe\">\n",
       "  <thead>\n",
       "    <tr style=\"text-align: right;\">\n",
       "      <th></th>\n",
       "      <th>Animal ID</th>\n",
       "      <th>Name</th>\n",
       "      <th>DateTime</th>\n",
       "      <th>MonthYear</th>\n",
       "      <th>Date of Birth</th>\n",
       "      <th>Outcome Type</th>\n",
       "      <th>Outcome Subtype</th>\n",
       "      <th>Animal Type</th>\n",
       "      <th>Sex upon Outcome</th>\n",
       "      <th>Age upon Outcome</th>\n",
       "      <th>Breed</th>\n",
       "      <th>Color</th>\n",
       "    </tr>\n",
       "  </thead>\n",
       "  <tbody>\n",
       "    <tr>\n",
       "      <th>0</th>\n",
       "      <td>A793389</td>\n",
       "      <td>NaN</td>\n",
       "      <td>04/24/2019 02:33:00 PM</td>\n",
       "      <td>04/24/2019 02:33:00 PM</td>\n",
       "      <td>04/24/2018</td>\n",
       "      <td>Euthanasia</td>\n",
       "      <td>Suffering</td>\n",
       "      <td>Other</td>\n",
       "      <td>Unknown</td>\n",
       "      <td>1 year</td>\n",
       "      <td>Raccoon Mix</td>\n",
       "      <td>Black/Gray</td>\n",
       "    </tr>\n",
       "    <tr>\n",
       "      <th>1</th>\n",
       "      <td>A766592</td>\n",
       "      <td>Coco</td>\n",
       "      <td>04/24/2019 02:25:00 PM</td>\n",
       "      <td>04/24/2019 02:25:00 PM</td>\n",
       "      <td>11/12/2016</td>\n",
       "      <td>Return to Owner</td>\n",
       "      <td>NaN</td>\n",
       "      <td>Dog</td>\n",
       "      <td>Intact Male</td>\n",
       "      <td>2 years</td>\n",
       "      <td>Chihuahua Shorthair Mix</td>\n",
       "      <td>Tan/Brown</td>\n",
       "    </tr>\n",
       "    <tr>\n",
       "      <th>2</th>\n",
       "      <td>A793355</td>\n",
       "      <td>NaN</td>\n",
       "      <td>04/24/2019 01:49:00 PM</td>\n",
       "      <td>04/24/2019 01:49:00 PM</td>\n",
       "      <td>03/15/2019</td>\n",
       "      <td>Transfer</td>\n",
       "      <td>Partner</td>\n",
       "      <td>Cat</td>\n",
       "      <td>Intact Female</td>\n",
       "      <td>1 month</td>\n",
       "      <td>Domestic Shorthair Mix</td>\n",
       "      <td>Tortie/White</td>\n",
       "    </tr>\n",
       "    <tr>\n",
       "      <th>3</th>\n",
       "      <td>A793356</td>\n",
       "      <td>NaN</td>\n",
       "      <td>04/24/2019 01:49:00 PM</td>\n",
       "      <td>04/24/2019 01:49:00 PM</td>\n",
       "      <td>03/15/2019</td>\n",
       "      <td>Transfer</td>\n",
       "      <td>Partner</td>\n",
       "      <td>Cat</td>\n",
       "      <td>Intact Male</td>\n",
       "      <td>1 month</td>\n",
       "      <td>Domestic Shorthair Mix</td>\n",
       "      <td>Cream Tabby</td>\n",
       "    </tr>\n",
       "    <tr>\n",
       "      <th>4</th>\n",
       "      <td>A793358</td>\n",
       "      <td>NaN</td>\n",
       "      <td>04/24/2019 01:49:00 PM</td>\n",
       "      <td>04/24/2019 01:49:00 PM</td>\n",
       "      <td>03/15/2019</td>\n",
       "      <td>Transfer</td>\n",
       "      <td>Partner</td>\n",
       "      <td>Cat</td>\n",
       "      <td>Intact Female</td>\n",
       "      <td>1 month</td>\n",
       "      <td>Domestic Shorthair Mix</td>\n",
       "      <td>Blue/Tortie</td>\n",
       "    </tr>\n",
       "  </tbody>\n",
       "</table>\n",
       "</div>"
      ],
      "text/plain": [
       "  Animal ID  Name                DateTime               MonthYear  \\\n",
       "0   A793389   NaN  04/24/2019 02:33:00 PM  04/24/2019 02:33:00 PM   \n",
       "1   A766592  Coco  04/24/2019 02:25:00 PM  04/24/2019 02:25:00 PM   \n",
       "2   A793355   NaN  04/24/2019 01:49:00 PM  04/24/2019 01:49:00 PM   \n",
       "3   A793356   NaN  04/24/2019 01:49:00 PM  04/24/2019 01:49:00 PM   \n",
       "4   A793358   NaN  04/24/2019 01:49:00 PM  04/24/2019 01:49:00 PM   \n",
       "\n",
       "  Date of Birth     Outcome Type Outcome Subtype Animal Type Sex upon Outcome  \\\n",
       "0    04/24/2018       Euthanasia       Suffering       Other          Unknown   \n",
       "1    11/12/2016  Return to Owner             NaN         Dog      Intact Male   \n",
       "2    03/15/2019         Transfer         Partner         Cat    Intact Female   \n",
       "3    03/15/2019         Transfer         Partner         Cat      Intact Male   \n",
       "4    03/15/2019         Transfer         Partner         Cat    Intact Female   \n",
       "\n",
       "  Age upon Outcome                    Breed         Color  \n",
       "0           1 year              Raccoon Mix    Black/Gray  \n",
       "1          2 years  Chihuahua Shorthair Mix     Tan/Brown  \n",
       "2          1 month   Domestic Shorthair Mix  Tortie/White  \n",
       "3          1 month   Domestic Shorthair Mix   Cream Tabby  \n",
       "4          1 month   Domestic Shorthair Mix   Blue/Tortie  "
      ]
     },
     "execution_count": 16,
     "metadata": {},
     "output_type": "execute_result"
    }
   ],
   "source": [
    "shelter_data=pd.read_csv('https://data.austintexas.gov/api/views/9t4d-g238/rows.csv?accessType=DOWNLOAD') \n",
    "#this link is copied directly from the download option for CSV\n",
    "\n",
    "shelter_data.head()"
   ]
  },
  {
   "cell_type": "markdown",
   "metadata": {},
   "source": [
    "Now that we can read in data, let's get more comfortable with our Pandas data structures."
   ]
  },
  {
   "cell_type": "code",
   "execution_count": 17,
   "metadata": {},
   "outputs": [
    {
     "data": {
      "text/plain": [
       "pandas.core.frame.DataFrame"
      ]
     },
     "execution_count": 17,
     "metadata": {},
     "output_type": "execute_result"
    }
   ],
   "source": [
    "type(shelter_data)"
   ]
  },
  {
   "cell_type": "code",
   "execution_count": 18,
   "metadata": {},
   "outputs": [
    {
     "data": {
      "text/plain": [
       "pandas.core.series.Series"
      ]
     },
     "execution_count": 18,
     "metadata": {},
     "output_type": "execute_result"
    }
   ],
   "source": [
    "ID_series=shelter_data['Animal ID'] #you can specify particular columns in a data frame in this way.\n",
    "\n",
    "type(ID_series)"
   ]
  },
  {
   "cell_type": "markdown",
   "metadata": {},
   "source": [
    "### 4. Utilizing and identifying Pandas objects\n",
    "\n",
    "- What is a DataFrame object and what is a Series object? \n",
    "- How are they different from Python lists and dictionary objects?\n",
    "\n",
    "These are questions we will cover in this section. To start, let's start with this list of fruits."
   ]
  },
  {
   "cell_type": "code",
   "execution_count": 19,
   "metadata": {},
   "outputs": [
    {
     "name": "stdout",
     "output_type": "stream",
     "text": [
      "['Apple', 'Orange', 'Watermelon', 'Lemon', 'Mango']\n"
     ]
    }
   ],
   "source": [
    "#define your list here!\n",
    "\n",
    "fruits = ['Apple','Orange','Watermelon','Lemon','Mango']\n",
    "\n",
    "print(fruits)"
   ]
  },
  {
   "cell_type": "markdown",
   "metadata": {},
   "source": [
    "Using our list of fruits, we can create a pandas object called a 'series' which is much like an array or a vector."
   ]
  },
  {
   "cell_type": "code",
   "execution_count": 20,
   "metadata": {},
   "outputs": [
    {
     "name": "stdout",
     "output_type": "stream",
     "text": [
      "0         Apple\n",
      "1        Orange\n",
      "2    Watermelon\n",
      "3         Lemon\n",
      "4         Mango\n",
      "dtype: object\n"
     ]
    }
   ],
   "source": [
    "fruits_series = pd.Series(fruits)\n",
    "\n",
    "print(fruits_series)"
   ]
  },
  {
   "cell_type": "markdown",
   "metadata": {},
   "source": [
    "One difference between python **list objects** and pandas **series objects** is the fact that you can define the index _manually._"
   ]
  },
  {
   "cell_type": "code",
   "execution_count": 21,
   "metadata": {},
   "outputs": [
    {
     "name": "stdout",
     "output_type": "stream",
     "text": [
      "a         Apple\n",
      "b        Orange\n",
      "c    Watermelon\n",
      "d         Lemon\n",
      "e         Mango\n",
      "dtype: object\n"
     ]
    }
   ],
   "source": [
    "ind = ['a','b','c','d','e']\n",
    "\n",
    "fruits_series = pd.Series(fruits,index=ind)\n",
    "\n",
    "print(fruits_series)"
   ]
  },
  {
   "cell_type": "markdown",
   "metadata": {},
   "source": [
    "With a partner, create your own custom series from a list of lists."
   ]
  },
  {
   "cell_type": "code",
   "execution_count": 24,
   "metadata": {},
   "outputs": [
    {
     "name": "stdout",
     "output_type": "stream",
     "text": [
      "q      [cat]\n",
      "w      [dog]\n",
      "e    [horse]\n",
      "r      [cow]\n",
      "t    [macaw]\n",
      "dtype: object\n"
     ]
    }
   ],
   "source": [
    "list_of_lists=[['cat'],['dog'],['horse'],['cow'],['macaw']]\n",
    "\n",
    "#create custom indices for your series\n",
    "ind = ['q','w','e','r','t']\n",
    "\n",
    "#create the series using your list objects\n",
    "#HINT: use a for loop\n",
    "\n",
    "list_series = pd.Series(list_of_lists, index=ind)\n",
    "print(list_series)\n",
    "\n",
    "#print your series\n"
   ]
  },
  {
   "cell_type": "markdown",
   "metadata": {},
   "source": [
    "We can do a simliar thing with Python dictionaries. This time, however, we will create a DataFrame object from a python dictionary."
   ]
  },
  {
   "cell_type": "code",
   "execution_count": 29,
   "metadata": {},
   "outputs": [
    {
     "data": {
      "text/html": [
       "<div>\n",
       "<style scoped>\n",
       "    .dataframe tbody tr th:only-of-type {\n",
       "        vertical-align: middle;\n",
       "    }\n",
       "\n",
       "    .dataframe tbody tr th {\n",
       "        vertical-align: top;\n",
       "    }\n",
       "\n",
       "    .dataframe thead th {\n",
       "        text-align: right;\n",
       "    }\n",
       "</style>\n",
       "<table border=\"1\" class=\"dataframe\">\n",
       "  <thead>\n",
       "    <tr style=\"text-align: right;\">\n",
       "      <th></th>\n",
       "      <th>name</th>\n",
       "      <th>age</th>\n",
       "      <th>city</th>\n",
       "    </tr>\n",
       "  </thead>\n",
       "  <tbody>\n",
       "    <tr>\n",
       "      <th>0</th>\n",
       "      <td>Samantha</td>\n",
       "      <td>35</td>\n",
       "      <td>Houston</td>\n",
       "    </tr>\n",
       "    <tr>\n",
       "      <th>1</th>\n",
       "      <td>Alex</td>\n",
       "      <td>17</td>\n",
       "      <td>Seattle</td>\n",
       "    </tr>\n",
       "    <tr>\n",
       "      <th>2</th>\n",
       "      <td>Dante</td>\n",
       "      <td>26</td>\n",
       "      <td>New York</td>\n",
       "    </tr>\n",
       "  </tbody>\n",
       "</table>\n",
       "</div>"
      ],
      "text/plain": [
       "       name age      city\n",
       "0  Samantha  35   Houston\n",
       "1      Alex  17   Seattle\n",
       "2     Dante  26  New York"
      ]
     },
     "execution_count": 29,
     "metadata": {},
     "output_type": "execute_result"
    }
   ],
   "source": [
    "# Dictionary with list object in values\n",
    "student_dict = {\n",
    "    'name' : ['Samantha', 'Alex', 'Dante'],\n",
    "    'age' : ['35','17','26'],\n",
    "    'city' : ['Houston', 'Seattle', 'New York']\n",
    "}\n",
    "\n",
    "students_df = pd.DataFrame(student_dict)\n",
    "\n",
    "students_df"
   ]
  },
  {
   "cell_type": "code",
   "execution_count": 30,
   "metadata": {},
   "outputs": [
    {
     "data": {
      "text/plain": [
       "name    object\n",
       "age     object\n",
       "city    object\n",
       "dtype: object"
      ]
     },
     "execution_count": 30,
     "metadata": {},
     "output_type": "execute_result"
    }
   ],
   "source": [
    "#to find data types of columns\n",
    "students_df.dtypes"
   ]
  },
  {
   "cell_type": "markdown",
   "metadata": {},
   "source": [
    "Let's change the data type of ages to int."
   ]
  },
  {
   "cell_type": "code",
   "execution_count": 33,
   "metadata": {},
   "outputs": [
    {
     "data": {
      "text/plain": [
       "name    object\n",
       "age      int64\n",
       "city    object\n",
       "dtype: object"
      ]
     },
     "execution_count": 33,
     "metadata": {},
     "output_type": "execute_result"
    }
   ],
   "source": [
    "students_df.age = students_df['age'].astype(int)\n",
    "\n",
    "students_df.dtypes"
   ]
  },
  {
   "cell_type": "markdown",
   "metadata": {},
   "source": [
    "We can also use a custom index for these items. For example, we might want them to be the individual student ID numbers."
   ]
  },
  {
   "cell_type": "code",
   "execution_count": 34,
   "metadata": {},
   "outputs": [
    {
     "data": {
      "text/html": [
       "<div>\n",
       "<style scoped>\n",
       "    .dataframe tbody tr th:only-of-type {\n",
       "        vertical-align: middle;\n",
       "    }\n",
       "\n",
       "    .dataframe tbody tr th {\n",
       "        vertical-align: top;\n",
       "    }\n",
       "\n",
       "    .dataframe thead th {\n",
       "        text-align: right;\n",
       "    }\n",
       "</style>\n",
       "<table border=\"1\" class=\"dataframe\">\n",
       "  <thead>\n",
       "    <tr style=\"text-align: right;\">\n",
       "      <th></th>\n",
       "      <th>name</th>\n",
       "      <th>age</th>\n",
       "      <th>city</th>\n",
       "    </tr>\n",
       "  </thead>\n",
       "  <tbody>\n",
       "    <tr>\n",
       "      <th>1111</th>\n",
       "      <td>Samantha</td>\n",
       "      <td>35</td>\n",
       "      <td>Houston</td>\n",
       "    </tr>\n",
       "    <tr>\n",
       "      <th>1145</th>\n",
       "      <td>Alex</td>\n",
       "      <td>17</td>\n",
       "      <td>Seattle</td>\n",
       "    </tr>\n",
       "    <tr>\n",
       "      <th>0096</th>\n",
       "      <td>Dante</td>\n",
       "      <td>26</td>\n",
       "      <td>New York</td>\n",
       "    </tr>\n",
       "  </tbody>\n",
       "</table>\n",
       "</div>"
      ],
      "text/plain": [
       "          name age      city\n",
       "1111  Samantha  35   Houston\n",
       "1145      Alex  17   Seattle\n",
       "0096     Dante  26  New York"
      ]
     },
     "execution_count": 34,
     "metadata": {},
     "output_type": "execute_result"
    }
   ],
   "source": [
    "school_ids = ['1111','1145','0096']\n",
    "\n",
    "students_df = pd.DataFrame(student_dict,index=school_ids)\n",
    "\n",
    "students_df.head()"
   ]
  },
  {
   "cell_type": "markdown",
   "metadata": {},
   "source": [
    "Using Pandas, we can also rename column names."
   ]
  },
  {
   "cell_type": "code",
   "execution_count": 44,
   "metadata": {},
   "outputs": [
    {
     "data": {
      "text/html": [
       "<div>\n",
       "<style scoped>\n",
       "    .dataframe tbody tr th:only-of-type {\n",
       "        vertical-align: middle;\n",
       "    }\n",
       "\n",
       "    .dataframe tbody tr th {\n",
       "        vertical-align: top;\n",
       "    }\n",
       "\n",
       "    .dataframe thead th {\n",
       "        text-align: right;\n",
       "    }\n",
       "</style>\n",
       "<table border=\"1\" class=\"dataframe\">\n",
       "  <thead>\n",
       "    <tr style=\"text-align: right;\">\n",
       "      <th></th>\n",
       "      <th>NAME</th>\n",
       "      <th>AGE</th>\n",
       "      <th>HOME</th>\n",
       "    </tr>\n",
       "  </thead>\n",
       "  <tbody>\n",
       "    <tr>\n",
       "      <th>1111</th>\n",
       "      <td>Samantha</td>\n",
       "      <td>35</td>\n",
       "      <td>Houston</td>\n",
       "    </tr>\n",
       "    <tr>\n",
       "      <th>1145</th>\n",
       "      <td>Alex</td>\n",
       "      <td>17</td>\n",
       "      <td>Seattle</td>\n",
       "    </tr>\n",
       "    <tr>\n",
       "      <th>0096</th>\n",
       "      <td>Dante</td>\n",
       "      <td>26</td>\n",
       "      <td>New York</td>\n",
       "    </tr>\n",
       "  </tbody>\n",
       "</table>\n",
       "</div>"
      ],
      "text/plain": [
       "          NAME AGE      HOME\n",
       "1111  Samantha  35   Houston\n",
       "1145      Alex  17   Seattle\n",
       "0096     Dante  26  New York"
      ]
     },
     "execution_count": 44,
     "metadata": {},
     "output_type": "execute_result"
    }
   ],
   "source": [
    "students_df.columns = ['NAME', 'AGE','HOME']\n",
    "students_df.head()"
   ]
  },
  {
   "cell_type": "markdown",
   "metadata": {},
   "source": [
    "Or, we can also change the column names using the rename function."
   ]
  },
  {
   "cell_type": "code",
   "execution_count": 47,
   "metadata": {},
   "outputs": [
    {
     "data": {
      "text/html": [
       "<div>\n",
       "<style scoped>\n",
       "    .dataframe tbody tr th:only-of-type {\n",
       "        vertical-align: middle;\n",
       "    }\n",
       "\n",
       "    .dataframe tbody tr th {\n",
       "        vertical-align: top;\n",
       "    }\n",
       "\n",
       "    .dataframe thead th {\n",
       "        text-align: right;\n",
       "    }\n",
       "</style>\n",
       "<table border=\"1\" class=\"dataframe\">\n",
       "  <thead>\n",
       "    <tr style=\"text-align: right;\">\n",
       "      <th></th>\n",
       "      <th>NAME</th>\n",
       "      <th>YEARS</th>\n",
       "      <th>HOME</th>\n",
       "    </tr>\n",
       "  </thead>\n",
       "  <tbody>\n",
       "    <tr>\n",
       "      <th>1111</th>\n",
       "      <td>Samantha</td>\n",
       "      <td>35</td>\n",
       "      <td>Houston</td>\n",
       "    </tr>\n",
       "    <tr>\n",
       "      <th>1145</th>\n",
       "      <td>Alex</td>\n",
       "      <td>17</td>\n",
       "      <td>Seattle</td>\n",
       "    </tr>\n",
       "    <tr>\n",
       "      <th>0096</th>\n",
       "      <td>Dante</td>\n",
       "      <td>26</td>\n",
       "      <td>New York</td>\n",
       "    </tr>\n",
       "  </tbody>\n",
       "</table>\n",
       "</div>"
      ],
      "text/plain": [
       "          NAME YEARS      HOME\n",
       "1111  Samantha    35   Houston\n",
       "1145      Alex    17   Seattle\n",
       "0096     Dante    26  New York"
      ]
     },
     "execution_count": 47,
     "metadata": {},
     "output_type": "execute_result"
    }
   ],
   "source": [
    "students_df.rename(columns={'AGE': 'YEARS'}, inplace=True)\n",
    "students_df.head()"
   ]
  },
  {
   "cell_type": "markdown",
   "metadata": {},
   "source": [
    "Similarly, there is a tool to remove rows and columns from your DataFrame"
   ]
  },
  {
   "cell_type": "code",
   "execution_count": 49,
   "metadata": {},
   "outputs": [
    {
     "data": {
      "text/html": [
       "<div>\n",
       "<style scoped>\n",
       "    .dataframe tbody tr th:only-of-type {\n",
       "        vertical-align: middle;\n",
       "    }\n",
       "\n",
       "    .dataframe tbody tr th {\n",
       "        vertical-align: top;\n",
       "    }\n",
       "\n",
       "    .dataframe thead th {\n",
       "        text-align: right;\n",
       "    }\n",
       "</style>\n",
       "<table border=\"1\" class=\"dataframe\">\n",
       "  <thead>\n",
       "    <tr style=\"text-align: right;\">\n",
       "      <th></th>\n",
       "      <th>NAME</th>\n",
       "    </tr>\n",
       "  </thead>\n",
       "  <tbody>\n",
       "    <tr>\n",
       "      <th>1111</th>\n",
       "      <td>Samantha</td>\n",
       "    </tr>\n",
       "    <tr>\n",
       "      <th>1145</th>\n",
       "      <td>Alex</td>\n",
       "    </tr>\n",
       "    <tr>\n",
       "      <th>0096</th>\n",
       "      <td>Dante</td>\n",
       "    </tr>\n",
       "  </tbody>\n",
       "</table>\n",
       "</div>"
      ],
      "text/plain": [
       "          NAME\n",
       "1111  Samantha\n",
       "1145      Alex\n",
       "0096     Dante"
      ]
     },
     "execution_count": 49,
     "metadata": {},
     "output_type": "execute_result"
    }
   ],
   "source": [
    "students_df.drop(columns=['YEARS', 'HOME'])"
   ]
  },
  {
   "cell_type": "markdown",
   "metadata": {},
   "source": [
    "If you want the file to save over itself, use the option `inplace = True`.\n",
    "\n",
    "Every function has options. Let's read more about `drop` [here](https://pandas.pydata.org/pandas-docs/stable/reference/api/pandas.DataFrame.drop.html)"
   ]
  },
  {
   "cell_type": "code",
   "execution_count": 38,
   "metadata": {},
   "outputs": [
    {
     "data": {
      "text/html": [
       "<div>\n",
       "<style scoped>\n",
       "    .dataframe tbody tr th:only-of-type {\n",
       "        vertical-align: middle;\n",
       "    }\n",
       "\n",
       "    .dataframe tbody tr th {\n",
       "        vertical-align: top;\n",
       "    }\n",
       "\n",
       "    .dataframe thead th {\n",
       "        text-align: right;\n",
       "    }\n",
       "</style>\n",
       "<table border=\"1\" class=\"dataframe\">\n",
       "  <thead>\n",
       "    <tr style=\"text-align: right;\">\n",
       "      <th></th>\n",
       "      <th>NAME</th>\n",
       "      <th>YEARS</th>\n",
       "      <th>HOME</th>\n",
       "    </tr>\n",
       "  </thead>\n",
       "  <tbody>\n",
       "    <tr>\n",
       "      <th>1145</th>\n",
       "      <td>Alex</td>\n",
       "      <td>17</td>\n",
       "      <td>Seattle</td>\n",
       "    </tr>\n",
       "    <tr>\n",
       "      <th>0096</th>\n",
       "      <td>Dante</td>\n",
       "      <td>26</td>\n",
       "      <td>New York</td>\n",
       "    </tr>\n",
       "  </tbody>\n",
       "</table>\n",
       "</div>"
      ],
      "text/plain": [
       "       NAME YEARS      HOME\n",
       "1145   Alex    17   Seattle\n",
       "0096  Dante    26  New York"
      ]
     },
     "execution_count": 38,
     "metadata": {},
     "output_type": "execute_result"
    }
   ],
   "source": [
    "students_df.drop(index=['1111']) #unintuitively, this is a string!"
   ]
  },
  {
   "cell_type": "markdown",
   "metadata": {},
   "source": [
    "Adding columns can be a bit trickier, however."
   ]
  },
  {
   "cell_type": "markdown",
   "metadata": {},
   "source": [
    "#### Getting Started\n",
    "\n",
    "Let's define a function that returns a dataframe for us to work with. Note that this dataframe is created from a `list` of dictionaries, and each `dict` has identical _keys_ representing field names. The _values_ are the data to be stored in each field.\n",
    "\n",
    "This list-of-dictionaries format is a common way to represent _rows of data_ in Python.\n",
    "\n",
    "Pandas is not the only tool that supports it natively: **MongoDB** also represents each row of a dataset as a dictionary. This format is also useful when working with big data in Spark."
   ]
  },
  {
   "cell_type": "code",
   "execution_count": 50,
   "metadata": {},
   "outputs": [],
   "source": [
    "def get_customer_data():\n",
    "    \"\"\"Return a Pandas DataFrame containing imaginary customer data.\"\"\"\n",
    "    customers = [\n",
    "        {'name': 'Harmony', 'state': 'OR'},\n",
    "        {'name': 'Sarah', 'state': 'CA'},\n",
    "        {'name': 'Sharad', 'state': 'WA'},\n",
    "        {'name': 'CJ', 'state': 'NY'},\n",
    "        {'name': 'Jerry', 'state': 'OR'},\n",
    "    ]\n",
    "    return pd.DataFrame(customers)"
   ]
  },
  {
   "cell_type": "code",
   "execution_count": 51,
   "metadata": {},
   "outputs": [
    {
     "data": {
      "text/html": [
       "<div>\n",
       "<style scoped>\n",
       "    .dataframe tbody tr th:only-of-type {\n",
       "        vertical-align: middle;\n",
       "    }\n",
       "\n",
       "    .dataframe tbody tr th {\n",
       "        vertical-align: top;\n",
       "    }\n",
       "\n",
       "    .dataframe thead th {\n",
       "        text-align: right;\n",
       "    }\n",
       "</style>\n",
       "<table border=\"1\" class=\"dataframe\">\n",
       "  <thead>\n",
       "    <tr style=\"text-align: right;\">\n",
       "      <th></th>\n",
       "      <th>name</th>\n",
       "      <th>state</th>\n",
       "    </tr>\n",
       "  </thead>\n",
       "  <tbody>\n",
       "    <tr>\n",
       "      <th>0</th>\n",
       "      <td>Harmony</td>\n",
       "      <td>OR</td>\n",
       "    </tr>\n",
       "    <tr>\n",
       "      <th>1</th>\n",
       "      <td>Sarah</td>\n",
       "      <td>CA</td>\n",
       "    </tr>\n",
       "    <tr>\n",
       "      <th>2</th>\n",
       "      <td>Sharad</td>\n",
       "      <td>WA</td>\n",
       "    </tr>\n",
       "    <tr>\n",
       "      <th>3</th>\n",
       "      <td>CJ</td>\n",
       "      <td>NY</td>\n",
       "    </tr>\n",
       "    <tr>\n",
       "      <th>4</th>\n",
       "      <td>Jerry</td>\n",
       "      <td>OR</td>\n",
       "    </tr>\n",
       "  </tbody>\n",
       "</table>\n",
       "</div>"
      ],
      "text/plain": [
       "      name state\n",
       "0  Harmony    OR\n",
       "1    Sarah    CA\n",
       "2   Sharad    WA\n",
       "3       CJ    NY\n",
       "4    Jerry    OR"
      ]
     },
     "execution_count": 51,
     "metadata": {},
     "output_type": "execute_result"
    }
   ],
   "source": [
    "get_customer_data()"
   ]
  },
  {
   "cell_type": "markdown",
   "metadata": {},
   "source": [
    "#### Get the customer data"
   ]
  },
  {
   "cell_type": "code",
   "execution_count": 52,
   "metadata": {},
   "outputs": [],
   "source": [
    "customer_df = get_customer_data()"
   ]
  },
  {
   "cell_type": "markdown",
   "metadata": {},
   "source": [
    "#### Try to identify all Oregonian customers as hippies:\n"
   ]
  },
  {
   "cell_type": "code",
   "execution_count": 53,
   "metadata": {},
   "outputs": [
    {
     "name": "stderr",
     "output_type": "stream",
     "text": [
      "/anaconda3/envs/learn-env/lib/python3.6/site-packages/ipykernel_launcher.py:2: SettingWithCopyWarning: \n",
      "A value is trying to be set on a copy of a slice from a DataFrame.\n",
      "Try using .loc[row_indexer,col_indexer] = value instead\n",
      "\n",
      "See the caveats in the documentation: http://pandas.pydata.org/pandas-docs/stable/indexing.html#indexing-view-versus-copy\n",
      "  \n"
     ]
    }
   ],
   "source": [
    "oregon_customer_df = customer_df[customer_df['state'] == 'OR']\n",
    "oregon_customer_df['is_hippy'] = 1"
   ]
  },
  {
   "cell_type": "markdown",
   "metadata": {},
   "source": [
    "#### Try to identify all non-Oregonian customers as non-hippies:\n"
   ]
  },
  {
   "cell_type": "code",
   "execution_count": 57,
   "metadata": {},
   "outputs": [
    {
     "name": "stderr",
     "output_type": "stream",
     "text": [
      "/anaconda3/envs/learn-env/lib/python3.6/site-packages/ipykernel_launcher.py:2: SettingWithCopyWarning: \n",
      "A value is trying to be set on a copy of a slice from a DataFrame.\n",
      "Try using .loc[row_indexer,col_indexer] = value instead\n",
      "\n",
      "See the caveats in the documentation: http://pandas.pydata.org/pandas-docs/stable/indexing.html#indexing-view-versus-copy\n",
      "  \n"
     ]
    }
   ],
   "source": [
    "non_oregon_customer_df = customer_df[customer_df['state'] != 'OR']\n",
    "non_oregon_customer_df['is_hippy'] = 0"
   ]
  },
  {
   "cell_type": "markdown",
   "metadata": {},
   "source": [
    "#### We can do the same thing on a single line (and get the same warning):"
   ]
  },
  {
   "cell_type": "code",
   "execution_count": 58,
   "metadata": {},
   "outputs": [
    {
     "name": "stderr",
     "output_type": "stream",
     "text": [
      "/anaconda3/envs/learn-env/lib/python3.6/site-packages/ipykernel_launcher.py:1: SettingWithCopyWarning: \n",
      "A value is trying to be set on a copy of a slice from a DataFrame.\n",
      "Try using .loc[row_indexer,col_indexer] = value instead\n",
      "\n",
      "See the caveats in the documentation: http://pandas.pydata.org/pandas-docs/stable/indexing.html#indexing-view-versus-copy\n",
      "  \"\"\"Entry point for launching an IPython kernel.\n"
     ]
    }
   ],
   "source": [
    "customer_df[customer_df['state'] == 'OR']['is_hippy'] = 1"
   ]
  },
  {
   "cell_type": "markdown",
   "metadata": {},
   "source": [
    "#### See the results! (What's wrong?)"
   ]
  },
  {
   "cell_type": "code",
   "execution_count": 59,
   "metadata": {},
   "outputs": [
    {
     "data": {
      "text/html": [
       "<div>\n",
       "<style scoped>\n",
       "    .dataframe tbody tr th:only-of-type {\n",
       "        vertical-align: middle;\n",
       "    }\n",
       "\n",
       "    .dataframe tbody tr th {\n",
       "        vertical-align: top;\n",
       "    }\n",
       "\n",
       "    .dataframe thead th {\n",
       "        text-align: right;\n",
       "    }\n",
       "</style>\n",
       "<table border=\"1\" class=\"dataframe\">\n",
       "  <thead>\n",
       "    <tr style=\"text-align: right;\">\n",
       "      <th></th>\n",
       "      <th>name</th>\n",
       "      <th>state</th>\n",
       "    </tr>\n",
       "  </thead>\n",
       "  <tbody>\n",
       "    <tr>\n",
       "      <th>0</th>\n",
       "      <td>Harmony</td>\n",
       "      <td>OR</td>\n",
       "    </tr>\n",
       "    <tr>\n",
       "      <th>1</th>\n",
       "      <td>Sarah</td>\n",
       "      <td>CA</td>\n",
       "    </tr>\n",
       "    <tr>\n",
       "      <th>2</th>\n",
       "      <td>Sharad</td>\n",
       "      <td>WA</td>\n",
       "    </tr>\n",
       "    <tr>\n",
       "      <th>3</th>\n",
       "      <td>CJ</td>\n",
       "      <td>NY</td>\n",
       "    </tr>\n",
       "    <tr>\n",
       "      <th>4</th>\n",
       "      <td>Jerry</td>\n",
       "      <td>OR</td>\n",
       "    </tr>\n",
       "  </tbody>\n",
       "</table>\n",
       "</div>"
      ],
      "text/plain": [
       "      name state\n",
       "0  Harmony    OR\n",
       "1    Sarah    CA\n",
       "2   Sharad    WA\n",
       "3       CJ    NY\n",
       "4    Jerry    OR"
      ]
     },
     "execution_count": 59,
     "metadata": {},
     "output_type": "execute_result"
    }
   ],
   "source": [
    "customer_df"
   ]
  },
  {
   "cell_type": "markdown",
   "metadata": {},
   "source": [
    "#### What went wrong?\n",
    "\n",
    "1. First, we _sliced_ the original dataframe to include just Oregon customers.\n",
    "2. The _slice_ `oregon_customer_df` could be interpreted as a _new dataframe_ containing the selected rows in the original `customer_df`, or as a _pointer to_ the rows in the original dataframe. Pandas doesn't know which one we want.\n",
    "3. When we try to _modify_ or _set_ values in the slice, Pandas doesn't know what to do.\n",
    "\n",
    "#### One way to avoid the error is to explicitly make a copy of the slice with `df.copy()`:"
   ]
  },
  {
   "cell_type": "code",
   "execution_count": 61,
   "metadata": {},
   "outputs": [
    {
     "data": {
      "text/html": [
       "<div>\n",
       "<style scoped>\n",
       "    .dataframe tbody tr th:only-of-type {\n",
       "        vertical-align: middle;\n",
       "    }\n",
       "\n",
       "    .dataframe tbody tr th {\n",
       "        vertical-align: top;\n",
       "    }\n",
       "\n",
       "    .dataframe thead th {\n",
       "        text-align: right;\n",
       "    }\n",
       "</style>\n",
       "<table border=\"1\" class=\"dataframe\">\n",
       "  <thead>\n",
       "    <tr style=\"text-align: right;\">\n",
       "      <th></th>\n",
       "      <th>name</th>\n",
       "      <th>state</th>\n",
       "      <th>is_hippy</th>\n",
       "    </tr>\n",
       "  </thead>\n",
       "  <tbody>\n",
       "    <tr>\n",
       "      <th>0</th>\n",
       "      <td>Harmony</td>\n",
       "      <td>OR</td>\n",
       "      <td>True</td>\n",
       "    </tr>\n",
       "    <tr>\n",
       "      <th>4</th>\n",
       "      <td>Jerry</td>\n",
       "      <td>OR</td>\n",
       "      <td>True</td>\n",
       "    </tr>\n",
       "  </tbody>\n",
       "</table>\n",
       "</div>"
      ],
      "text/plain": [
       "      name state  is_hippy\n",
       "0  Harmony    OR      True\n",
       "4    Jerry    OR      True"
      ]
     },
     "execution_count": 61,
     "metadata": {},
     "output_type": "execute_result"
    }
   ],
   "source": [
    "oregon_customer_df = customer_df[customer_df['state'] == 'OR'].copy()\n",
    "oregon_customer_df['is_hippy'] = True\n",
    "oregon_customer_df"
   ]
  },
  {
   "cell_type": "markdown",
   "metadata": {},
   "source": [
    "#### What if we really want to modify the original dataframe?\n",
    "#### We can use `df.loc[columns, rows]` to explicity modify the original dataframe."
   ]
  },
  {
   "cell_type": "code",
   "execution_count": 63,
   "metadata": {},
   "outputs": [],
   "source": [
    "customer_df.loc[customer_df['state'] == 'OR', 'is_hippy'] = True\n",
    "customer_df.loc[customer_df['state'] != 'OR', 'is_hippy'] = False"
   ]
  },
  {
   "cell_type": "markdown",
   "metadata": {},
   "source": [
    "#### See the awesome results!\n"
   ]
  },
  {
   "cell_type": "code",
   "execution_count": 64,
   "metadata": {},
   "outputs": [
    {
     "data": {
      "text/html": [
       "<div>\n",
       "<style scoped>\n",
       "    .dataframe tbody tr th:only-of-type {\n",
       "        vertical-align: middle;\n",
       "    }\n",
       "\n",
       "    .dataframe tbody tr th {\n",
       "        vertical-align: top;\n",
       "    }\n",
       "\n",
       "    .dataframe thead th {\n",
       "        text-align: right;\n",
       "    }\n",
       "</style>\n",
       "<table border=\"1\" class=\"dataframe\">\n",
       "  <thead>\n",
       "    <tr style=\"text-align: right;\">\n",
       "      <th></th>\n",
       "      <th>name</th>\n",
       "      <th>state</th>\n",
       "      <th>is_hippy</th>\n",
       "    </tr>\n",
       "  </thead>\n",
       "  <tbody>\n",
       "    <tr>\n",
       "      <th>0</th>\n",
       "      <td>Harmony</td>\n",
       "      <td>OR</td>\n",
       "      <td>True</td>\n",
       "    </tr>\n",
       "    <tr>\n",
       "      <th>1</th>\n",
       "      <td>Sarah</td>\n",
       "      <td>CA</td>\n",
       "      <td>False</td>\n",
       "    </tr>\n",
       "    <tr>\n",
       "      <th>2</th>\n",
       "      <td>Sharad</td>\n",
       "      <td>WA</td>\n",
       "      <td>False</td>\n",
       "    </tr>\n",
       "    <tr>\n",
       "      <th>3</th>\n",
       "      <td>CJ</td>\n",
       "      <td>NY</td>\n",
       "      <td>False</td>\n",
       "    </tr>\n",
       "    <tr>\n",
       "      <th>4</th>\n",
       "      <td>Jerry</td>\n",
       "      <td>OR</td>\n",
       "      <td>True</td>\n",
       "    </tr>\n",
       "  </tbody>\n",
       "</table>\n",
       "</div>"
      ],
      "text/plain": [
       "      name state is_hippy\n",
       "0  Harmony    OR     True\n",
       "1    Sarah    CA    False\n",
       "2   Sharad    WA    False\n",
       "3       CJ    NY    False\n",
       "4    Jerry    OR     True"
      ]
     },
     "execution_count": 64,
     "metadata": {},
     "output_type": "execute_result"
    }
   ],
   "source": [
    "customer_df"
   ]
  },
  {
   "cell_type": "markdown",
   "metadata": {},
   "source": [
    "### 5. Filtering data using Pandas\n",
    "\n",
    "There are several ways to grab particular data from a DataFrame.\n",
    "\n",
    "We saw the use of loc in the previous example. iloc and loc can be used in a few different ways to access data from a DataFrame. "
   ]
  },
  {
   "cell_type": "code",
   "execution_count": 65,
   "metadata": {},
   "outputs": [
    {
     "data": {
      "text/plain": [
       "name        Harmony\n",
       "state            OR\n",
       "is_hippy       True\n",
       "Name: 0, dtype: object"
      ]
     },
     "execution_count": 65,
     "metadata": {},
     "output_type": "execute_result"
    }
   ],
   "source": [
    "customer_df.iloc[0] #returns the first row"
   ]
  },
  {
   "cell_type": "code",
   "execution_count": 66,
   "metadata": {},
   "outputs": [
    {
     "data": {
      "text/plain": [
       "0    Harmony\n",
       "1      Sarah\n",
       "2     Sharad\n",
       "3         CJ\n",
       "4      Jerry\n",
       "Name: name, dtype: object"
      ]
     },
     "execution_count": 66,
     "metadata": {},
     "output_type": "execute_result"
    }
   ],
   "source": [
    "customer_df.iloc[:,0] #returns the first column"
   ]
  },
  {
   "cell_type": "code",
   "execution_count": 67,
   "metadata": {},
   "outputs": [
    {
     "data": {
      "text/html": [
       "<div>\n",
       "<style scoped>\n",
       "    .dataframe tbody tr th:only-of-type {\n",
       "        vertical-align: middle;\n",
       "    }\n",
       "\n",
       "    .dataframe tbody tr th {\n",
       "        vertical-align: top;\n",
       "    }\n",
       "\n",
       "    .dataframe thead th {\n",
       "        text-align: right;\n",
       "    }\n",
       "</style>\n",
       "<table border=\"1\" class=\"dataframe\">\n",
       "  <thead>\n",
       "    <tr style=\"text-align: right;\">\n",
       "      <th></th>\n",
       "      <th>name</th>\n",
       "      <th>state</th>\n",
       "      <th>is_hippy</th>\n",
       "    </tr>\n",
       "  </thead>\n",
       "  <tbody>\n",
       "    <tr>\n",
       "      <th>0</th>\n",
       "      <td>Harmony</td>\n",
       "      <td>OR</td>\n",
       "      <td>True</td>\n",
       "    </tr>\n",
       "    <tr>\n",
       "      <th>1</th>\n",
       "      <td>Sarah</td>\n",
       "      <td>CA</td>\n",
       "      <td>False</td>\n",
       "    </tr>\n",
       "  </tbody>\n",
       "</table>\n",
       "</div>"
      ],
      "text/plain": [
       "      name state is_hippy\n",
       "0  Harmony    OR     True\n",
       "1    Sarah    CA    False"
      ]
     },
     "execution_count": 67,
     "metadata": {},
     "output_type": "execute_result"
    }
   ],
   "source": [
    "customer_df.iloc[0:2] #returns first two rows"
   ]
  },
  {
   "cell_type": "code",
   "execution_count": 68,
   "metadata": {},
   "outputs": [
    {
     "data": {
      "text/html": [
       "<div>\n",
       "<style scoped>\n",
       "    .dataframe tbody tr th:only-of-type {\n",
       "        vertical-align: middle;\n",
       "    }\n",
       "\n",
       "    .dataframe tbody tr th {\n",
       "        vertical-align: top;\n",
       "    }\n",
       "\n",
       "    .dataframe thead th {\n",
       "        text-align: right;\n",
       "    }\n",
       "</style>\n",
       "<table border=\"1\" class=\"dataframe\">\n",
       "  <thead>\n",
       "    <tr style=\"text-align: right;\">\n",
       "      <th></th>\n",
       "      <th>name</th>\n",
       "      <th>state</th>\n",
       "    </tr>\n",
       "  </thead>\n",
       "  <tbody>\n",
       "    <tr>\n",
       "      <th>0</th>\n",
       "      <td>Harmony</td>\n",
       "      <td>OR</td>\n",
       "    </tr>\n",
       "    <tr>\n",
       "      <th>1</th>\n",
       "      <td>Sarah</td>\n",
       "      <td>CA</td>\n",
       "    </tr>\n",
       "    <tr>\n",
       "      <th>2</th>\n",
       "      <td>Sharad</td>\n",
       "      <td>WA</td>\n",
       "    </tr>\n",
       "    <tr>\n",
       "      <th>3</th>\n",
       "      <td>CJ</td>\n",
       "      <td>NY</td>\n",
       "    </tr>\n",
       "    <tr>\n",
       "      <th>4</th>\n",
       "      <td>Jerry</td>\n",
       "      <td>OR</td>\n",
       "    </tr>\n",
       "  </tbody>\n",
       "</table>\n",
       "</div>"
      ],
      "text/plain": [
       "      name state\n",
       "0  Harmony    OR\n",
       "1    Sarah    CA\n",
       "2   Sharad    WA\n",
       "3       CJ    NY\n",
       "4    Jerry    OR"
      ]
     },
     "execution_count": 68,
     "metadata": {},
     "output_type": "execute_result"
    }
   ],
   "source": [
    "customer_df.iloc[:,0:2] #returns the first two columns"
   ]
  },
  {
   "cell_type": "markdown",
   "metadata": {},
   "source": [
    "How would we use indexing to return the last item in the last row?"
   ]
  },
  {
   "cell_type": "code",
   "execution_count": 73,
   "metadata": {},
   "outputs": [
    {
     "data": {
      "text/plain": [
       "True"
      ]
     },
     "execution_count": 73,
     "metadata": {},
     "output_type": "execute_result"
    }
   ],
   "source": [
    "#return the last item in the last row using indexing\n",
    "\n",
    "customer_df.iloc[-1, -1]"
   ]
  },
  {
   "cell_type": "markdown",
   "metadata": {},
   "source": [
    "Use loc to return rows and columns based on labels. Let's look at the students_df DataFrame again."
   ]
  },
  {
   "cell_type": "code",
   "execution_count": 74,
   "metadata": {},
   "outputs": [
    {
     "data": {
      "text/html": [
       "<div>\n",
       "<style scoped>\n",
       "    .dataframe tbody tr th:only-of-type {\n",
       "        vertical-align: middle;\n",
       "    }\n",
       "\n",
       "    .dataframe tbody tr th {\n",
       "        vertical-align: top;\n",
       "    }\n",
       "\n",
       "    .dataframe thead th {\n",
       "        text-align: right;\n",
       "    }\n",
       "</style>\n",
       "<table border=\"1\" class=\"dataframe\">\n",
       "  <thead>\n",
       "    <tr style=\"text-align: right;\">\n",
       "      <th></th>\n",
       "      <th>NAME</th>\n",
       "      <th>YEARS</th>\n",
       "      <th>HOME</th>\n",
       "    </tr>\n",
       "  </thead>\n",
       "  <tbody>\n",
       "    <tr>\n",
       "      <th>1111</th>\n",
       "      <td>Samantha</td>\n",
       "      <td>35</td>\n",
       "      <td>Houston</td>\n",
       "    </tr>\n",
       "    <tr>\n",
       "      <th>1145</th>\n",
       "      <td>Alex</td>\n",
       "      <td>17</td>\n",
       "      <td>Seattle</td>\n",
       "    </tr>\n",
       "    <tr>\n",
       "      <th>0096</th>\n",
       "      <td>Dante</td>\n",
       "      <td>26</td>\n",
       "      <td>New York</td>\n",
       "    </tr>\n",
       "  </tbody>\n",
       "</table>\n",
       "</div>"
      ],
      "text/plain": [
       "          NAME YEARS      HOME\n",
       "1111  Samantha    35   Houston\n",
       "1145      Alex    17   Seattle\n",
       "0096     Dante    26  New York"
      ]
     },
     "execution_count": 74,
     "metadata": {},
     "output_type": "execute_result"
    }
   ],
   "source": [
    "students_df"
   ]
  },
  {
   "cell_type": "code",
   "execution_count": 70,
   "metadata": {},
   "outputs": [
    {
     "data": {
      "text/plain": [
       "NAME     Samantha\n",
       "YEARS          35\n",
       "HOME      Houston\n",
       "Name: 1111, dtype: object"
      ]
     },
     "execution_count": 70,
     "metadata": {},
     "output_type": "execute_result"
    }
   ],
   "source": [
    "students_df.loc['1111'] #returns the student information associated with the ID number 1111, which is the index"
   ]
  },
  {
   "cell_type": "code",
   "execution_count": 71,
   "metadata": {},
   "outputs": [
    {
     "data": {
      "text/plain": [
       "1111    35\n",
       "1145    17\n",
       "0096    26\n",
       "Name: YEARS, dtype: object"
      ]
     },
     "execution_count": 71,
     "metadata": {},
     "output_type": "execute_result"
    }
   ],
   "source": [
    "students_df.loc[:,'YEARS'] #returns the column labeled 'YEARS'"
   ]
  },
  {
   "cell_type": "code",
   "execution_count": 72,
   "metadata": {},
   "outputs": [
    {
     "data": {
      "text/plain": [
       "NAME     Samantha\n",
       "YEARS          35\n",
       "HOME      Houston\n",
       "Name: 1111, dtype: object"
      ]
     },
     "execution_count": 72,
     "metadata": {},
     "output_type": "execute_result"
    }
   ],
   "source": [
    "students_df.loc['1111','NAME':'HOME'] #returns information for the row labeled '1111' for columns from 'NAME' to 'HOME'"
   ]
  },
  {
   "cell_type": "markdown",
   "metadata": {},
   "source": [
    "How could we return the first and last rows if loc accepts a list of labels?"
   ]
  },
  {
   "cell_type": "code",
   "execution_count": 76,
   "metadata": {},
   "outputs": [
    {
     "data": {
      "text/html": [
       "<div>\n",
       "<style scoped>\n",
       "    .dataframe tbody tr th:only-of-type {\n",
       "        vertical-align: middle;\n",
       "    }\n",
       "\n",
       "    .dataframe tbody tr th {\n",
       "        vertical-align: top;\n",
       "    }\n",
       "\n",
       "    .dataframe thead th {\n",
       "        text-align: right;\n",
       "    }\n",
       "</style>\n",
       "<table border=\"1\" class=\"dataframe\">\n",
       "  <thead>\n",
       "    <tr style=\"text-align: right;\">\n",
       "      <th></th>\n",
       "      <th>NAME</th>\n",
       "      <th>YEARS</th>\n",
       "      <th>HOME</th>\n",
       "    </tr>\n",
       "  </thead>\n",
       "  <tbody>\n",
       "    <tr>\n",
       "      <th>1111</th>\n",
       "      <td>Samantha</td>\n",
       "      <td>35</td>\n",
       "      <td>Houston</td>\n",
       "    </tr>\n",
       "    <tr>\n",
       "      <th>0096</th>\n",
       "      <td>Dante</td>\n",
       "      <td>26</td>\n",
       "      <td>New York</td>\n",
       "    </tr>\n",
       "  </tbody>\n",
       "</table>\n",
       "</div>"
      ],
      "text/plain": [
       "          NAME YEARS      HOME\n",
       "1111  Samantha    35   Houston\n",
       "0096     Dante    26  New York"
      ]
     },
     "execution_count": 76,
     "metadata": {},
     "output_type": "execute_result"
    }
   ],
   "source": [
    "#return the first and last rows using one loc command\n",
    "\n",
    "students_df.loc[['1111','0096']]"
   ]
  },
  {
   "cell_type": "markdown",
   "metadata": {},
   "source": [
    "We can use loc to complete more complicated filtering of our data using boolean indexing."
   ]
  },
  {
   "cell_type": "code",
   "execution_count": 77,
   "metadata": {},
   "outputs": [
    {
     "data": {
      "text/html": [
       "<div>\n",
       "<style scoped>\n",
       "    .dataframe tbody tr th:only-of-type {\n",
       "        vertical-align: middle;\n",
       "    }\n",
       "\n",
       "    .dataframe tbody tr th {\n",
       "        vertical-align: top;\n",
       "    }\n",
       "\n",
       "    .dataframe thead th {\n",
       "        text-align: right;\n",
       "    }\n",
       "</style>\n",
       "<table border=\"1\" class=\"dataframe\">\n",
       "  <thead>\n",
       "    <tr style=\"text-align: right;\">\n",
       "      <th></th>\n",
       "      <th>NAME</th>\n",
       "      <th>YEARS</th>\n",
       "      <th>HOME</th>\n",
       "    </tr>\n",
       "  </thead>\n",
       "  <tbody>\n",
       "    <tr>\n",
       "      <th>1111</th>\n",
       "      <td>Samantha</td>\n",
       "      <td>35</td>\n",
       "      <td>Houston</td>\n",
       "    </tr>\n",
       "  </tbody>\n",
       "</table>\n",
       "</div>"
      ],
      "text/plain": [
       "          NAME YEARS     HOME\n",
       "1111  Samantha    35  Houston"
      ]
     },
     "execution_count": 77,
     "metadata": {},
     "output_type": "execute_result"
    }
   ],
   "source": [
    "students_df.loc[students_df['NAME']=='Samantha'] #returns only rows where the name of the student is Samantha"
   ]
  },
  {
   "cell_type": "markdown",
   "metadata": {},
   "source": [
    "We can also find out which customers in the customer_df DataFrame are not from Oregon. However, I only want to know their names. How would I return this?"
   ]
  },
  {
   "cell_type": "code",
   "execution_count": 78,
   "metadata": {},
   "outputs": [
    {
     "data": {
      "text/html": [
       "<div>\n",
       "<style scoped>\n",
       "    .dataframe tbody tr th:only-of-type {\n",
       "        vertical-align: middle;\n",
       "    }\n",
       "\n",
       "    .dataframe tbody tr th {\n",
       "        vertical-align: top;\n",
       "    }\n",
       "\n",
       "    .dataframe thead th {\n",
       "        text-align: right;\n",
       "    }\n",
       "</style>\n",
       "<table border=\"1\" class=\"dataframe\">\n",
       "  <thead>\n",
       "    <tr style=\"text-align: right;\">\n",
       "      <th></th>\n",
       "      <th>name</th>\n",
       "      <th>state</th>\n",
       "      <th>is_hippy</th>\n",
       "    </tr>\n",
       "  </thead>\n",
       "  <tbody>\n",
       "    <tr>\n",
       "      <th>0</th>\n",
       "      <td>Harmony</td>\n",
       "      <td>OR</td>\n",
       "      <td>True</td>\n",
       "    </tr>\n",
       "    <tr>\n",
       "      <th>1</th>\n",
       "      <td>Sarah</td>\n",
       "      <td>CA</td>\n",
       "      <td>False</td>\n",
       "    </tr>\n",
       "    <tr>\n",
       "      <th>2</th>\n",
       "      <td>Sharad</td>\n",
       "      <td>WA</td>\n",
       "      <td>False</td>\n",
       "    </tr>\n",
       "    <tr>\n",
       "      <th>3</th>\n",
       "      <td>CJ</td>\n",
       "      <td>NY</td>\n",
       "      <td>False</td>\n",
       "    </tr>\n",
       "    <tr>\n",
       "      <th>4</th>\n",
       "      <td>Jerry</td>\n",
       "      <td>OR</td>\n",
       "      <td>True</td>\n",
       "    </tr>\n",
       "  </tbody>\n",
       "</table>\n",
       "</div>"
      ],
      "text/plain": [
       "      name state is_hippy\n",
       "0  Harmony    OR     True\n",
       "1    Sarah    CA    False\n",
       "2   Sharad    WA    False\n",
       "3       CJ    NY    False\n",
       "4    Jerry    OR     True"
      ]
     },
     "execution_count": 78,
     "metadata": {},
     "output_type": "execute_result"
    }
   ],
   "source": [
    "customer_df.head()"
   ]
  },
  {
   "cell_type": "code",
   "execution_count": 81,
   "metadata": {},
   "outputs": [
    {
     "data": {
      "text/html": [
       "<div>\n",
       "<style scoped>\n",
       "    .dataframe tbody tr th:only-of-type {\n",
       "        vertical-align: middle;\n",
       "    }\n",
       "\n",
       "    .dataframe tbody tr th {\n",
       "        vertical-align: top;\n",
       "    }\n",
       "\n",
       "    .dataframe thead th {\n",
       "        text-align: right;\n",
       "    }\n",
       "</style>\n",
       "<table border=\"1\" class=\"dataframe\">\n",
       "  <thead>\n",
       "    <tr style=\"text-align: right;\">\n",
       "      <th></th>\n",
       "      <th>name</th>\n",
       "      <th>state</th>\n",
       "      <th>is_hippy</th>\n",
       "    </tr>\n",
       "  </thead>\n",
       "  <tbody>\n",
       "    <tr>\n",
       "      <th>1</th>\n",
       "      <td>Sarah</td>\n",
       "      <td>CA</td>\n",
       "      <td>False</td>\n",
       "    </tr>\n",
       "    <tr>\n",
       "      <th>2</th>\n",
       "      <td>Sharad</td>\n",
       "      <td>WA</td>\n",
       "      <td>False</td>\n",
       "    </tr>\n",
       "    <tr>\n",
       "      <th>3</th>\n",
       "      <td>CJ</td>\n",
       "      <td>NY</td>\n",
       "      <td>False</td>\n",
       "    </tr>\n",
       "  </tbody>\n",
       "</table>\n",
       "</div>"
      ],
      "text/plain": [
       "     name state is_hippy\n",
       "1   Sarah    CA    False\n",
       "2  Sharad    WA    False\n",
       "3      CJ    NY    False"
      ]
     },
     "execution_count": 81,
     "metadata": {},
     "output_type": "execute_result"
    }
   ],
   "source": [
    "#return the names of customers who are not from Oregon\n",
    "customer_df.loc[customer_df['state'] != 'OR']\n"
   ]
  },
  {
   "cell_type": "markdown",
   "metadata": {},
   "source": [
    "Let's select only a single column from a DataFrame. This will create a series, which allows for straightforwards, simple selection of the data it holds. "
   ]
  },
  {
   "cell_type": "code",
   "execution_count": 82,
   "metadata": {},
   "outputs": [
    {
     "data": {
      "text/plain": [
       "pandas.core.series.Series"
      ]
     },
     "execution_count": 82,
     "metadata": {},
     "output_type": "execute_result"
    }
   ],
   "source": [
    "states=customer_df.loc[:,'state'] #returns a series!!\n",
    "type(states)"
   ]
  },
  {
   "cell_type": "code",
   "execution_count": 83,
   "metadata": {},
   "outputs": [
    {
     "data": {
      "text/plain": [
       "0    OR\n",
       "1    CA\n",
       "2    WA\n",
       "Name: state, dtype: object"
      ]
     },
     "execution_count": 83,
     "metadata": {},
     "output_type": "execute_result"
    }
   ],
   "source": [
    "states[0:3] #returns the first 3 items"
   ]
  },
  {
   "cell_type": "code",
   "execution_count": 84,
   "metadata": {},
   "outputs": [
    {
     "data": {
      "text/plain": [
       "0    OR\n",
       "4    OR\n",
       "Name: state, dtype: object"
      ]
     },
     "execution_count": 84,
     "metadata": {},
     "output_type": "execute_result"
    }
   ],
   "source": [
    "states[states=='OR'] #returns 'OR' data and index"
   ]
  },
  {
   "cell_type": "markdown",
   "metadata": {},
   "source": [
    "Now that we know how to select specific data, we can manipulate those cells. For example, we need to update our customer data because all of our customers in Oregon have moved to New Jersey."
   ]
  },
  {
   "cell_type": "code",
   "execution_count": 90,
   "metadata": {},
   "outputs": [
    {
     "data": {
      "text/html": [
       "<div>\n",
       "<style scoped>\n",
       "    .dataframe tbody tr th:only-of-type {\n",
       "        vertical-align: middle;\n",
       "    }\n",
       "\n",
       "    .dataframe tbody tr th {\n",
       "        vertical-align: top;\n",
       "    }\n",
       "\n",
       "    .dataframe thead th {\n",
       "        text-align: right;\n",
       "    }\n",
       "</style>\n",
       "<table border=\"1\" class=\"dataframe\">\n",
       "  <thead>\n",
       "    <tr style=\"text-align: right;\">\n",
       "      <th></th>\n",
       "      <th>name</th>\n",
       "      <th>state</th>\n",
       "      <th>is_hippy</th>\n",
       "    </tr>\n",
       "  </thead>\n",
       "  <tbody>\n",
       "    <tr>\n",
       "      <th>0</th>\n",
       "      <td>Harmony</td>\n",
       "      <td>NJ</td>\n",
       "      <td>True</td>\n",
       "    </tr>\n",
       "    <tr>\n",
       "      <th>1</th>\n",
       "      <td>NJ</td>\n",
       "      <td>NJ</td>\n",
       "      <td>NJ</td>\n",
       "    </tr>\n",
       "    <tr>\n",
       "      <th>2</th>\n",
       "      <td>Sharad</td>\n",
       "      <td>WA</td>\n",
       "      <td>False</td>\n",
       "    </tr>\n",
       "    <tr>\n",
       "      <th>3</th>\n",
       "      <td>TJ</td>\n",
       "      <td>NY</td>\n",
       "      <td>False</td>\n",
       "    </tr>\n",
       "    <tr>\n",
       "      <th>4</th>\n",
       "      <td>Jerry</td>\n",
       "      <td>NJ</td>\n",
       "      <td>True</td>\n",
       "    </tr>\n",
       "  </tbody>\n",
       "</table>\n",
       "</div>"
      ],
      "text/plain": [
       "      name state is_hippy\n",
       "0  Harmony    NJ     True\n",
       "1       NJ    NJ       NJ\n",
       "2   Sharad    WA    False\n",
       "3       TJ    NY    False\n",
       "4    Jerry    NJ     True"
      ]
     },
     "execution_count": 90,
     "metadata": {},
     "output_type": "execute_result"
    }
   ],
   "source": [
    "customer_df.loc[customer_df[\"state\"]=='CA'] = 'NJ'\n",
    "\n",
    "customer_df"
   ]
  },
  {
   "cell_type": "markdown",
   "metadata": {},
   "source": [
    "Or maybe we got a customer's name wrong and need to change that. Perhaps CJ is actually named TJ. How would we do that?"
   ]
  },
  {
   "cell_type": "code",
   "execution_count": 88,
   "metadata": {},
   "outputs": [
    {
     "data": {
      "text/html": [
       "<div>\n",
       "<style scoped>\n",
       "    .dataframe tbody tr th:only-of-type {\n",
       "        vertical-align: middle;\n",
       "    }\n",
       "\n",
       "    .dataframe tbody tr th {\n",
       "        vertical-align: top;\n",
       "    }\n",
       "\n",
       "    .dataframe thead th {\n",
       "        text-align: right;\n",
       "    }\n",
       "</style>\n",
       "<table border=\"1\" class=\"dataframe\">\n",
       "  <thead>\n",
       "    <tr style=\"text-align: right;\">\n",
       "      <th></th>\n",
       "      <th>name</th>\n",
       "      <th>state</th>\n",
       "      <th>is_hippy</th>\n",
       "    </tr>\n",
       "  </thead>\n",
       "  <tbody>\n",
       "    <tr>\n",
       "      <th>0</th>\n",
       "      <td>Harmony</td>\n",
       "      <td>NJ</td>\n",
       "      <td>True</td>\n",
       "    </tr>\n",
       "    <tr>\n",
       "      <th>1</th>\n",
       "      <td>Sarah</td>\n",
       "      <td>CA</td>\n",
       "      <td>False</td>\n",
       "    </tr>\n",
       "    <tr>\n",
       "      <th>2</th>\n",
       "      <td>Sharad</td>\n",
       "      <td>WA</td>\n",
       "      <td>False</td>\n",
       "    </tr>\n",
       "    <tr>\n",
       "      <th>3</th>\n",
       "      <td>TJ</td>\n",
       "      <td>NY</td>\n",
       "      <td>False</td>\n",
       "    </tr>\n",
       "    <tr>\n",
       "      <th>4</th>\n",
       "      <td>Jerry</td>\n",
       "      <td>NJ</td>\n",
       "      <td>True</td>\n",
       "    </tr>\n",
       "  </tbody>\n",
       "</table>\n",
       "</div>"
      ],
      "text/plain": [
       "      name state is_hippy\n",
       "0  Harmony    NJ     True\n",
       "1    Sarah    CA    False\n",
       "2   Sharad    WA    False\n",
       "3       TJ    NY    False\n",
       "4    Jerry    NJ     True"
      ]
     },
     "execution_count": 88,
     "metadata": {},
     "output_type": "execute_result"
    }
   ],
   "source": [
    "#return a the customer_df with the fixed name\n",
    "\n",
    "customer_df.loc[customer_df['name'] == 'CJ'] = 'TJ'\n",
    "customer_df"
   ]
  },
  {
   "cell_type": "markdown",
   "metadata": {},
   "source": [
    "### Lesson Recap\n",
    "\n",
    "Now that we have all of these new tools in our tool belt, let's take another look at our animal shelter data! \n",
    "\n",
    "- Use `shelter_data.columns` to get the list of column names\n",
    "- Drop columns from the animal shelter data until you have only 5 columns remaining\n",
    "- Rename those columns\n",
    "- Get the `unique()` values in outcomes \n",
    "- select rows of animals based on an application of boolean indexing\n",
    "\n",
    "For extra credit: add in your own new column on information to this DataFrame."
   ]
  },
  {
   "cell_type": "code",
   "execution_count": 104,
   "metadata": {},
   "outputs": [
    {
     "data": {
      "text/html": [
       "<div>\n",
       "<style scoped>\n",
       "    .dataframe tbody tr th:only-of-type {\n",
       "        vertical-align: middle;\n",
       "    }\n",
       "\n",
       "    .dataframe tbody tr th {\n",
       "        vertical-align: top;\n",
       "    }\n",
       "\n",
       "    .dataframe thead th {\n",
       "        text-align: right;\n",
       "    }\n",
       "</style>\n",
       "<table border=\"1\" class=\"dataframe\">\n",
       "  <thead>\n",
       "    <tr style=\"text-align: right;\">\n",
       "      <th></th>\n",
       "      <th>Animal ID</th>\n",
       "      <th>Name</th>\n",
       "      <th>DateTime</th>\n",
       "      <th>MonthYear</th>\n",
       "      <th>Date of Birth</th>\n",
       "      <th>Outcome Type</th>\n",
       "      <th>Outcome Subtype</th>\n",
       "      <th>Animal Type</th>\n",
       "      <th>Sex upon Outcome</th>\n",
       "      <th>Age upon Outcome</th>\n",
       "      <th>Breed</th>\n",
       "      <th>Color</th>\n",
       "    </tr>\n",
       "  </thead>\n",
       "  <tbody>\n",
       "    <tr>\n",
       "      <th>0</th>\n",
       "      <td>A793389</td>\n",
       "      <td>NaN</td>\n",
       "      <td>04/24/2019 02:33:00 PM</td>\n",
       "      <td>04/24/2019 02:33:00 PM</td>\n",
       "      <td>04/24/2018</td>\n",
       "      <td>Euthanasia</td>\n",
       "      <td>Suffering</td>\n",
       "      <td>Other</td>\n",
       "      <td>Unknown</td>\n",
       "      <td>1 year</td>\n",
       "      <td>Raccoon Mix</td>\n",
       "      <td>Black/Gray</td>\n",
       "    </tr>\n",
       "    <tr>\n",
       "      <th>1</th>\n",
       "      <td>A766592</td>\n",
       "      <td>Coco</td>\n",
       "      <td>04/24/2019 02:25:00 PM</td>\n",
       "      <td>04/24/2019 02:25:00 PM</td>\n",
       "      <td>11/12/2016</td>\n",
       "      <td>Return to Owner</td>\n",
       "      <td>NaN</td>\n",
       "      <td>Dog</td>\n",
       "      <td>Intact Male</td>\n",
       "      <td>2 years</td>\n",
       "      <td>Chihuahua Shorthair Mix</td>\n",
       "      <td>Tan/Brown</td>\n",
       "    </tr>\n",
       "    <tr>\n",
       "      <th>2</th>\n",
       "      <td>A793355</td>\n",
       "      <td>NaN</td>\n",
       "      <td>04/24/2019 01:49:00 PM</td>\n",
       "      <td>04/24/2019 01:49:00 PM</td>\n",
       "      <td>03/15/2019</td>\n",
       "      <td>Transfer</td>\n",
       "      <td>Partner</td>\n",
       "      <td>Cat</td>\n",
       "      <td>Intact Female</td>\n",
       "      <td>1 month</td>\n",
       "      <td>Domestic Shorthair Mix</td>\n",
       "      <td>Tortie/White</td>\n",
       "    </tr>\n",
       "    <tr>\n",
       "      <th>3</th>\n",
       "      <td>A793356</td>\n",
       "      <td>NaN</td>\n",
       "      <td>04/24/2019 01:49:00 PM</td>\n",
       "      <td>04/24/2019 01:49:00 PM</td>\n",
       "      <td>03/15/2019</td>\n",
       "      <td>Transfer</td>\n",
       "      <td>Partner</td>\n",
       "      <td>Cat</td>\n",
       "      <td>Intact Male</td>\n",
       "      <td>1 month</td>\n",
       "      <td>Domestic Shorthair Mix</td>\n",
       "      <td>Cream Tabby</td>\n",
       "    </tr>\n",
       "    <tr>\n",
       "      <th>4</th>\n",
       "      <td>A793358</td>\n",
       "      <td>NaN</td>\n",
       "      <td>04/24/2019 01:49:00 PM</td>\n",
       "      <td>04/24/2019 01:49:00 PM</td>\n",
       "      <td>03/15/2019</td>\n",
       "      <td>Transfer</td>\n",
       "      <td>Partner</td>\n",
       "      <td>Cat</td>\n",
       "      <td>Intact Female</td>\n",
       "      <td>1 month</td>\n",
       "      <td>Domestic Shorthair Mix</td>\n",
       "      <td>Blue/Tortie</td>\n",
       "    </tr>\n",
       "  </tbody>\n",
       "</table>\n",
       "</div>"
      ],
      "text/plain": [
       "  Animal ID  Name                DateTime               MonthYear  \\\n",
       "0   A793389   NaN  04/24/2019 02:33:00 PM  04/24/2019 02:33:00 PM   \n",
       "1   A766592  Coco  04/24/2019 02:25:00 PM  04/24/2019 02:25:00 PM   \n",
       "2   A793355   NaN  04/24/2019 01:49:00 PM  04/24/2019 01:49:00 PM   \n",
       "3   A793356   NaN  04/24/2019 01:49:00 PM  04/24/2019 01:49:00 PM   \n",
       "4   A793358   NaN  04/24/2019 01:49:00 PM  04/24/2019 01:49:00 PM   \n",
       "\n",
       "  Date of Birth     Outcome Type Outcome Subtype Animal Type Sex upon Outcome  \\\n",
       "0    04/24/2018       Euthanasia       Suffering       Other          Unknown   \n",
       "1    11/12/2016  Return to Owner             NaN         Dog      Intact Male   \n",
       "2    03/15/2019         Transfer         Partner         Cat    Intact Female   \n",
       "3    03/15/2019         Transfer         Partner         Cat      Intact Male   \n",
       "4    03/15/2019         Transfer         Partner         Cat    Intact Female   \n",
       "\n",
       "  Age upon Outcome                    Breed         Color  \n",
       "0           1 year              Raccoon Mix    Black/Gray  \n",
       "1          2 years  Chihuahua Shorthair Mix     Tan/Brown  \n",
       "2          1 month   Domestic Shorthair Mix  Tortie/White  \n",
       "3          1 month   Domestic Shorthair Mix   Cream Tabby  \n",
       "4          1 month   Domestic Shorthair Mix   Blue/Tortie  "
      ]
     },
     "execution_count": 104,
     "metadata": {},
     "output_type": "execute_result"
    }
   ],
   "source": [
    "shelter_data.head()"
   ]
  },
  {
   "cell_type": "code",
   "execution_count": 103,
   "metadata": {},
   "outputs": [
    {
     "data": {
      "text/plain": [
       "Index(['Animal ID', 'Name', 'DateTime', 'MonthYear', 'Date of Birth',\n",
       "       'Outcome Type', 'Outcome Subtype', 'Animal Type', 'Sex upon Outcome',\n",
       "       'Age upon Outcome', 'Breed', 'Color'],\n",
       "      dtype='object')"
      ]
     },
     "execution_count": 103,
     "metadata": {},
     "output_type": "execute_result"
    }
   ],
   "source": [
    "shelter_data.columns"
   ]
  },
  {
   "cell_type": "code",
   "execution_count": 100,
   "metadata": {},
   "outputs": [
    {
     "data": {
      "text/plain": [
       "Index(['Name', 'Date of Birth', 'Outcome Type', 'Animal Type', 'Color'], dtype='object')"
      ]
     },
     "execution_count": 100,
     "metadata": {},
     "output_type": "execute_result"
    }
   ],
   "source": [
    "smaller_shelter_data = shelter_data.drop(columns = ['Outcome Subtype', 'DateTime', 'MonthYear', 'Sex upon Outcome', 'Animal ID', 'Age upon Outcome', 'Breed'])\n",
    "\n",
    "smaller_shelter_data.columns"
   ]
  },
  {
   "cell_type": "code",
   "execution_count": 102,
   "metadata": {},
   "outputs": [
    {
     "data": {
      "text/plain": [
       "{'Adoption',\n",
       " 'Died',\n",
       " 'Disposal',\n",
       " 'Euthanasia',\n",
       " 'Missing',\n",
       " 'Relocate',\n",
       " 'Return to Owner',\n",
       " 'Rto-Adopt',\n",
       " 'Transfer',\n",
       " nan}"
      ]
     },
     "execution_count": 102,
     "metadata": {},
     "output_type": "execute_result"
    }
   ],
   "source": [
    "shelter_data.columns\n",
    "\n",
    "set(shelter_data['Outcome Type'])"
   ]
  },
  {
   "cell_type": "code",
   "execution_count": 105,
   "metadata": {},
   "outputs": [
    {
     "data": {
      "text/html": [
       "<div>\n",
       "<style scoped>\n",
       "    .dataframe tbody tr th:only-of-type {\n",
       "        vertical-align: middle;\n",
       "    }\n",
       "\n",
       "    .dataframe tbody tr th {\n",
       "        vertical-align: top;\n",
       "    }\n",
       "\n",
       "    .dataframe thead th {\n",
       "        text-align: right;\n",
       "    }\n",
       "</style>\n",
       "<table border=\"1\" class=\"dataframe\">\n",
       "  <thead>\n",
       "    <tr style=\"text-align: right;\">\n",
       "      <th></th>\n",
       "      <th>Animal ID</th>\n",
       "      <th>Name</th>\n",
       "      <th>DateTime</th>\n",
       "      <th>MonthYear</th>\n",
       "      <th>Date of Birth</th>\n",
       "      <th>Outcome Type</th>\n",
       "      <th>Outcome Subtype</th>\n",
       "      <th>Animal Type</th>\n",
       "      <th>Sex upon Outcome</th>\n",
       "      <th>Age upon Outcome</th>\n",
       "      <th>Breed</th>\n",
       "      <th>Color</th>\n",
       "    </tr>\n",
       "  </thead>\n",
       "  <tbody>\n",
       "    <tr>\n",
       "      <th>2</th>\n",
       "      <td>A793355</td>\n",
       "      <td>NaN</td>\n",
       "      <td>04/24/2019 01:49:00 PM</td>\n",
       "      <td>04/24/2019 01:49:00 PM</td>\n",
       "      <td>03/15/2019</td>\n",
       "      <td>Transfer</td>\n",
       "      <td>Partner</td>\n",
       "      <td>Cat</td>\n",
       "      <td>Intact Female</td>\n",
       "      <td>1 month</td>\n",
       "      <td>Domestic Shorthair Mix</td>\n",
       "      <td>Tortie/White</td>\n",
       "    </tr>\n",
       "    <tr>\n",
       "      <th>3</th>\n",
       "      <td>A793356</td>\n",
       "      <td>NaN</td>\n",
       "      <td>04/24/2019 01:49:00 PM</td>\n",
       "      <td>04/24/2019 01:49:00 PM</td>\n",
       "      <td>03/15/2019</td>\n",
       "      <td>Transfer</td>\n",
       "      <td>Partner</td>\n",
       "      <td>Cat</td>\n",
       "      <td>Intact Male</td>\n",
       "      <td>1 month</td>\n",
       "      <td>Domestic Shorthair Mix</td>\n",
       "      <td>Cream Tabby</td>\n",
       "    </tr>\n",
       "    <tr>\n",
       "      <th>4</th>\n",
       "      <td>A793358</td>\n",
       "      <td>NaN</td>\n",
       "      <td>04/24/2019 01:49:00 PM</td>\n",
       "      <td>04/24/2019 01:49:00 PM</td>\n",
       "      <td>03/15/2019</td>\n",
       "      <td>Transfer</td>\n",
       "      <td>Partner</td>\n",
       "      <td>Cat</td>\n",
       "      <td>Intact Female</td>\n",
       "      <td>1 month</td>\n",
       "      <td>Domestic Shorthair Mix</td>\n",
       "      <td>Blue/Tortie</td>\n",
       "    </tr>\n",
       "    <tr>\n",
       "      <th>5</th>\n",
       "      <td>A793354</td>\n",
       "      <td>NaN</td>\n",
       "      <td>04/24/2019 01:49:00 PM</td>\n",
       "      <td>04/24/2019 01:49:00 PM</td>\n",
       "      <td>03/15/2019</td>\n",
       "      <td>Transfer</td>\n",
       "      <td>Partner</td>\n",
       "      <td>Cat</td>\n",
       "      <td>Intact Female</td>\n",
       "      <td>1 month</td>\n",
       "      <td>Domestic Shorthair Mix</td>\n",
       "      <td>Tortie</td>\n",
       "    </tr>\n",
       "    <tr>\n",
       "      <th>6</th>\n",
       "      <td>A793353</td>\n",
       "      <td>NaN</td>\n",
       "      <td>04/24/2019 01:49:00 PM</td>\n",
       "      <td>04/24/2019 01:49:00 PM</td>\n",
       "      <td>04/23/2017</td>\n",
       "      <td>Transfer</td>\n",
       "      <td>Partner</td>\n",
       "      <td>Cat</td>\n",
       "      <td>Intact Female</td>\n",
       "      <td>2 years</td>\n",
       "      <td>Domestic Shorthair Mix</td>\n",
       "      <td>Orange Tabby/White</td>\n",
       "    </tr>\n",
       "    <tr>\n",
       "      <th>7</th>\n",
       "      <td>A793357</td>\n",
       "      <td>NaN</td>\n",
       "      <td>04/24/2019 01:49:00 PM</td>\n",
       "      <td>04/24/2019 01:49:00 PM</td>\n",
       "      <td>03/15/2019</td>\n",
       "      <td>Transfer</td>\n",
       "      <td>Partner</td>\n",
       "      <td>Cat</td>\n",
       "      <td>Intact Male</td>\n",
       "      <td>1 month</td>\n",
       "      <td>Domestic Shorthair Mix</td>\n",
       "      <td>Orange Tabby</td>\n",
       "    </tr>\n",
       "    <tr>\n",
       "      <th>9</th>\n",
       "      <td>A793366</td>\n",
       "      <td>NaN</td>\n",
       "      <td>04/24/2019 12:58:00 PM</td>\n",
       "      <td>04/24/2019 12:58:00 PM</td>\n",
       "      <td>04/23/2016</td>\n",
       "      <td>Return to Owner</td>\n",
       "      <td>NaN</td>\n",
       "      <td>Cat</td>\n",
       "      <td>Intact Male</td>\n",
       "      <td>3 years</td>\n",
       "      <td>Domestic Shorthair Mix</td>\n",
       "      <td>Black/White</td>\n",
       "    </tr>\n",
       "    <tr>\n",
       "      <th>12</th>\n",
       "      <td>A793371</td>\n",
       "      <td>NaN</td>\n",
       "      <td>04/24/2019 12:19:00 PM</td>\n",
       "      <td>04/24/2019 12:19:00 PM</td>\n",
       "      <td>04/24/2017</td>\n",
       "      <td>Euthanasia</td>\n",
       "      <td>Suffering</td>\n",
       "      <td>Cat</td>\n",
       "      <td>Intact Male</td>\n",
       "      <td>NaN</td>\n",
       "      <td>Domestic Shorthair Mix</td>\n",
       "      <td>Brown/Black</td>\n",
       "    </tr>\n",
       "    <tr>\n",
       "      <th>32</th>\n",
       "      <td>A791238</td>\n",
       "      <td>Luna</td>\n",
       "      <td>04/23/2019 06:39:00 PM</td>\n",
       "      <td>04/23/2019 06:39:00 PM</td>\n",
       "      <td>02/23/2019</td>\n",
       "      <td>Adoption</td>\n",
       "      <td>Foster</td>\n",
       "      <td>Cat</td>\n",
       "      <td>Spayed Female</td>\n",
       "      <td>1 month</td>\n",
       "      <td>Ragdoll Mix</td>\n",
       "      <td>Lynx Point</td>\n",
       "    </tr>\n",
       "    <tr>\n",
       "      <th>35</th>\n",
       "      <td>A792171</td>\n",
       "      <td>Jasper</td>\n",
       "      <td>04/23/2019 06:20:00 PM</td>\n",
       "      <td>04/23/2019 06:20:00 PM</td>\n",
       "      <td>10/07/2008</td>\n",
       "      <td>Adoption</td>\n",
       "      <td>NaN</td>\n",
       "      <td>Cat</td>\n",
       "      <td>Neutered Male</td>\n",
       "      <td>10 years</td>\n",
       "      <td>Domestic Medium Hair Mix</td>\n",
       "      <td>Brown Tabby</td>\n",
       "    </tr>\n",
       "    <tr>\n",
       "      <th>36</th>\n",
       "      <td>A793345</td>\n",
       "      <td>NaN</td>\n",
       "      <td>04/23/2019 06:15:00 PM</td>\n",
       "      <td>04/23/2019 06:15:00 PM</td>\n",
       "      <td>04/08/2019</td>\n",
       "      <td>Transfer</td>\n",
       "      <td>Partner</td>\n",
       "      <td>Cat</td>\n",
       "      <td>Unknown</td>\n",
       "      <td>2 weeks</td>\n",
       "      <td>Domestic Shorthair Mix</td>\n",
       "      <td>Black</td>\n",
       "    </tr>\n",
       "    <tr>\n",
       "      <th>37</th>\n",
       "      <td>A793343</td>\n",
       "      <td>NaN</td>\n",
       "      <td>04/23/2019 06:15:00 PM</td>\n",
       "      <td>04/23/2019 06:15:00 PM</td>\n",
       "      <td>04/08/2019</td>\n",
       "      <td>Transfer</td>\n",
       "      <td>Partner</td>\n",
       "      <td>Cat</td>\n",
       "      <td>Unknown</td>\n",
       "      <td>2 weeks</td>\n",
       "      <td>Domestic Shorthair Mix</td>\n",
       "      <td>Calico</td>\n",
       "    </tr>\n",
       "    <tr>\n",
       "      <th>38</th>\n",
       "      <td>A793344</td>\n",
       "      <td>NaN</td>\n",
       "      <td>04/23/2019 06:15:00 PM</td>\n",
       "      <td>04/23/2019 06:15:00 PM</td>\n",
       "      <td>04/08/2019</td>\n",
       "      <td>Transfer</td>\n",
       "      <td>Partner</td>\n",
       "      <td>Cat</td>\n",
       "      <td>Unknown</td>\n",
       "      <td>2 weeks</td>\n",
       "      <td>Domestic Shorthair Mix</td>\n",
       "      <td>Blue</td>\n",
       "    </tr>\n",
       "    <tr>\n",
       "      <th>39</th>\n",
       "      <td>A793341</td>\n",
       "      <td>NaN</td>\n",
       "      <td>04/23/2019 06:14:00 PM</td>\n",
       "      <td>04/23/2019 06:14:00 PM</td>\n",
       "      <td>04/21/2019</td>\n",
       "      <td>Transfer</td>\n",
       "      <td>Partner</td>\n",
       "      <td>Cat</td>\n",
       "      <td>Unknown</td>\n",
       "      <td>2 days</td>\n",
       "      <td>Domestic Shorthair Mix</td>\n",
       "      <td>Brown Tabby</td>\n",
       "    </tr>\n",
       "    <tr>\n",
       "      <th>40</th>\n",
       "      <td>A793340</td>\n",
       "      <td>NaN</td>\n",
       "      <td>04/23/2019 06:14:00 PM</td>\n",
       "      <td>04/23/2019 06:14:00 PM</td>\n",
       "      <td>04/21/2019</td>\n",
       "      <td>Transfer</td>\n",
       "      <td>Partner</td>\n",
       "      <td>Cat</td>\n",
       "      <td>Unknown</td>\n",
       "      <td>2 days</td>\n",
       "      <td>Domestic Shorthair Mix</td>\n",
       "      <td>Brown Tabby</td>\n",
       "    </tr>\n",
       "    <tr>\n",
       "      <th>41</th>\n",
       "      <td>A793338</td>\n",
       "      <td>NaN</td>\n",
       "      <td>04/23/2019 06:14:00 PM</td>\n",
       "      <td>04/23/2019 06:14:00 PM</td>\n",
       "      <td>04/21/2019</td>\n",
       "      <td>Transfer</td>\n",
       "      <td>Partner</td>\n",
       "      <td>Cat</td>\n",
       "      <td>Unknown</td>\n",
       "      <td>2 days</td>\n",
       "      <td>Domestic Shorthair Mix</td>\n",
       "      <td>Brown Tabby</td>\n",
       "    </tr>\n",
       "    <tr>\n",
       "      <th>42</th>\n",
       "      <td>A793339</td>\n",
       "      <td>NaN</td>\n",
       "      <td>04/23/2019 06:14:00 PM</td>\n",
       "      <td>04/23/2019 06:14:00 PM</td>\n",
       "      <td>04/21/2019</td>\n",
       "      <td>Transfer</td>\n",
       "      <td>Partner</td>\n",
       "      <td>Cat</td>\n",
       "      <td>Unknown</td>\n",
       "      <td>2 days</td>\n",
       "      <td>Domestic Shorthair Mix</td>\n",
       "      <td>Brown Tabby</td>\n",
       "    </tr>\n",
       "    <tr>\n",
       "      <th>43</th>\n",
       "      <td>A793342</td>\n",
       "      <td>NaN</td>\n",
       "      <td>04/23/2019 06:13:00 PM</td>\n",
       "      <td>04/23/2019 06:13:00 PM</td>\n",
       "      <td>04/21/2019</td>\n",
       "      <td>Transfer</td>\n",
       "      <td>Partner</td>\n",
       "      <td>Cat</td>\n",
       "      <td>Unknown</td>\n",
       "      <td>2 days</td>\n",
       "      <td>Domestic Shorthair Mix</td>\n",
       "      <td>Brown Tabby</td>\n",
       "    </tr>\n",
       "    <tr>\n",
       "      <th>45</th>\n",
       "      <td>A793301</td>\n",
       "      <td>NaN</td>\n",
       "      <td>04/23/2019 05:54:00 PM</td>\n",
       "      <td>04/23/2019 05:54:00 PM</td>\n",
       "      <td>04/15/2019</td>\n",
       "      <td>Transfer</td>\n",
       "      <td>Partner</td>\n",
       "      <td>Cat</td>\n",
       "      <td>Intact Male</td>\n",
       "      <td>1 weeks</td>\n",
       "      <td>Domestic Shorthair Mix</td>\n",
       "      <td>Cream Tabby</td>\n",
       "    </tr>\n",
       "    <tr>\n",
       "      <th>49</th>\n",
       "      <td>A793137</td>\n",
       "      <td>NaN</td>\n",
       "      <td>04/23/2019 04:58:00 PM</td>\n",
       "      <td>04/23/2019 04:58:00 PM</td>\n",
       "      <td>04/20/2018</td>\n",
       "      <td>Died</td>\n",
       "      <td>In Kennel</td>\n",
       "      <td>Cat</td>\n",
       "      <td>Spayed Female</td>\n",
       "      <td>1 year</td>\n",
       "      <td>Domestic Shorthair Mix</td>\n",
       "      <td>Black</td>\n",
       "    </tr>\n",
       "    <tr>\n",
       "      <th>50</th>\n",
       "      <td>A792524</td>\n",
       "      <td>NaN</td>\n",
       "      <td>04/23/2019 04:54:00 PM</td>\n",
       "      <td>04/23/2019 04:54:00 PM</td>\n",
       "      <td>01/27/2019</td>\n",
       "      <td>Adoption</td>\n",
       "      <td>NaN</td>\n",
       "      <td>Cat</td>\n",
       "      <td>Spayed Female</td>\n",
       "      <td>2 months</td>\n",
       "      <td>Domestic Shorthair Mix</td>\n",
       "      <td>Brown Tabby</td>\n",
       "    </tr>\n",
       "    <tr>\n",
       "      <th>51</th>\n",
       "      <td>A791242</td>\n",
       "      <td>Ruby</td>\n",
       "      <td>04/23/2019 04:44:00 PM</td>\n",
       "      <td>04/23/2019 04:44:00 PM</td>\n",
       "      <td>02/23/2019</td>\n",
       "      <td>Adoption</td>\n",
       "      <td>Foster</td>\n",
       "      <td>Cat</td>\n",
       "      <td>Spayed Female</td>\n",
       "      <td>1 month</td>\n",
       "      <td>Domestic Medium Hair Mix</td>\n",
       "      <td>Brown Tabby</td>\n",
       "    </tr>\n",
       "    <tr>\n",
       "      <th>54</th>\n",
       "      <td>A791240</td>\n",
       "      <td>Shadow</td>\n",
       "      <td>04/23/2019 04:33:00 PM</td>\n",
       "      <td>04/23/2019 04:33:00 PM</td>\n",
       "      <td>02/23/2019</td>\n",
       "      <td>Adoption</td>\n",
       "      <td>Foster</td>\n",
       "      <td>Cat</td>\n",
       "      <td>Neutered Male</td>\n",
       "      <td>1 month</td>\n",
       "      <td>Domestic Medium Hair Mix</td>\n",
       "      <td>Black</td>\n",
       "    </tr>\n",
       "    <tr>\n",
       "      <th>58</th>\n",
       "      <td>A791241</td>\n",
       "      <td>Simon</td>\n",
       "      <td>04/23/2019 04:11:00 PM</td>\n",
       "      <td>04/23/2019 04:11:00 PM</td>\n",
       "      <td>02/23/2019</td>\n",
       "      <td>Adoption</td>\n",
       "      <td>Foster</td>\n",
       "      <td>Cat</td>\n",
       "      <td>Neutered Male</td>\n",
       "      <td>1 month</td>\n",
       "      <td>Domestic Medium Hair Mix</td>\n",
       "      <td>Black/White</td>\n",
       "    </tr>\n",
       "    <tr>\n",
       "      <th>63</th>\n",
       "      <td>A792395</td>\n",
       "      <td>Mia</td>\n",
       "      <td>04/23/2019 03:40:00 PM</td>\n",
       "      <td>04/23/2019 03:40:00 PM</td>\n",
       "      <td>04/10/2018</td>\n",
       "      <td>Adoption</td>\n",
       "      <td>NaN</td>\n",
       "      <td>Cat</td>\n",
       "      <td>Spayed Female</td>\n",
       "      <td>1 year</td>\n",
       "      <td>Domestic Shorthair Mix</td>\n",
       "      <td>Black/White</td>\n",
       "    </tr>\n",
       "    <tr>\n",
       "      <th>65</th>\n",
       "      <td>A793157</td>\n",
       "      <td>Randy</td>\n",
       "      <td>04/23/2019 03:00:00 PM</td>\n",
       "      <td>04/23/2019 03:00:00 PM</td>\n",
       "      <td>04/20/2016</td>\n",
       "      <td>Adoption</td>\n",
       "      <td>NaN</td>\n",
       "      <td>Cat</td>\n",
       "      <td>Neutered Male</td>\n",
       "      <td>3 years</td>\n",
       "      <td>Domestic Shorthair Mix</td>\n",
       "      <td>Orange Tabby</td>\n",
       "    </tr>\n",
       "    <tr>\n",
       "      <th>66</th>\n",
       "      <td>A793286</td>\n",
       "      <td>Kitty</td>\n",
       "      <td>04/23/2019 02:56:00 PM</td>\n",
       "      <td>04/23/2019 02:56:00 PM</td>\n",
       "      <td>04/23/2015</td>\n",
       "      <td>Return to Owner</td>\n",
       "      <td>NaN</td>\n",
       "      <td>Cat</td>\n",
       "      <td>Intact Female</td>\n",
       "      <td>4 years</td>\n",
       "      <td>Domestic Shorthair Mix</td>\n",
       "      <td>Tortie</td>\n",
       "    </tr>\n",
       "    <tr>\n",
       "      <th>82</th>\n",
       "      <td>A793262</td>\n",
       "      <td>NaN</td>\n",
       "      <td>04/23/2019 11:21:00 AM</td>\n",
       "      <td>04/23/2019 11:21:00 AM</td>\n",
       "      <td>04/21/2019</td>\n",
       "      <td>Transfer</td>\n",
       "      <td>Partner</td>\n",
       "      <td>Cat</td>\n",
       "      <td>Unknown</td>\n",
       "      <td>2 days</td>\n",
       "      <td>Domestic Shorthair Mix</td>\n",
       "      <td>Brown Tabby</td>\n",
       "    </tr>\n",
       "    <tr>\n",
       "      <th>83</th>\n",
       "      <td>A793263</td>\n",
       "      <td>NaN</td>\n",
       "      <td>04/23/2019 11:21:00 AM</td>\n",
       "      <td>04/23/2019 11:21:00 AM</td>\n",
       "      <td>04/21/2019</td>\n",
       "      <td>Transfer</td>\n",
       "      <td>Partner</td>\n",
       "      <td>Cat</td>\n",
       "      <td>Unknown</td>\n",
       "      <td>2 days</td>\n",
       "      <td>Domestic Shorthair Mix</td>\n",
       "      <td>White/Brown Tabby</td>\n",
       "    </tr>\n",
       "    <tr>\n",
       "      <th>84</th>\n",
       "      <td>A793261</td>\n",
       "      <td>*Ophelia</td>\n",
       "      <td>04/23/2019 11:21:00 AM</td>\n",
       "      <td>04/23/2019 11:21:00 AM</td>\n",
       "      <td>04/22/2018</td>\n",
       "      <td>Transfer</td>\n",
       "      <td>Partner</td>\n",
       "      <td>Cat</td>\n",
       "      <td>Intact Female</td>\n",
       "      <td>1 year</td>\n",
       "      <td>Domestic Shorthair Mix</td>\n",
       "      <td>Brown Tabby/White</td>\n",
       "    </tr>\n",
       "    <tr>\n",
       "      <th>...</th>\n",
       "      <td>...</td>\n",
       "      <td>...</td>\n",
       "      <td>...</td>\n",
       "      <td>...</td>\n",
       "      <td>...</td>\n",
       "      <td>...</td>\n",
       "      <td>...</td>\n",
       "      <td>...</td>\n",
       "      <td>...</td>\n",
       "      <td>...</td>\n",
       "      <td>...</td>\n",
       "      <td>...</td>\n",
       "    </tr>\n",
       "    <tr>\n",
       "      <th>98775</th>\n",
       "      <td>A664059</td>\n",
       "      <td>Sylvia</td>\n",
       "      <td>10/02/2013 01:50:00 PM</td>\n",
       "      <td>10/02/2013 01:50:00 PM</td>\n",
       "      <td>09/28/2005</td>\n",
       "      <td>Return to Owner</td>\n",
       "      <td>NaN</td>\n",
       "      <td>Cat</td>\n",
       "      <td>Spayed Female</td>\n",
       "      <td>8 years</td>\n",
       "      <td>Russian Blue Mix</td>\n",
       "      <td>Blue</td>\n",
       "    </tr>\n",
       "    <tr>\n",
       "      <th>98776</th>\n",
       "      <td>A664060</td>\n",
       "      <td>Raisin</td>\n",
       "      <td>10/02/2013 01:49:00 PM</td>\n",
       "      <td>10/02/2013 01:49:00 PM</td>\n",
       "      <td>09/28/2005</td>\n",
       "      <td>Return to Owner</td>\n",
       "      <td>NaN</td>\n",
       "      <td>Cat</td>\n",
       "      <td>Spayed Female</td>\n",
       "      <td>8 years</td>\n",
       "      <td>Domestic Shorthair Mix</td>\n",
       "      <td>Tortie</td>\n",
       "    </tr>\n",
       "    <tr>\n",
       "      <th>98781</th>\n",
       "      <td>A657196</td>\n",
       "      <td>*Salamander</td>\n",
       "      <td>10/02/2013 12:05:00 PM</td>\n",
       "      <td>10/02/2013 12:05:00 PM</td>\n",
       "      <td>05/12/2013</td>\n",
       "      <td>Adoption</td>\n",
       "      <td>NaN</td>\n",
       "      <td>Cat</td>\n",
       "      <td>Spayed Female</td>\n",
       "      <td>4 months</td>\n",
       "      <td>Domestic Shorthair Mix</td>\n",
       "      <td>Brown Tabby/White</td>\n",
       "    </tr>\n",
       "    <tr>\n",
       "      <th>98783</th>\n",
       "      <td>A661383</td>\n",
       "      <td>*Mirabai</td>\n",
       "      <td>10/02/2013 11:35:00 AM</td>\n",
       "      <td>10/02/2013 11:35:00 AM</td>\n",
       "      <td>08/20/2008</td>\n",
       "      <td>Transfer</td>\n",
       "      <td>Partner</td>\n",
       "      <td>Cat</td>\n",
       "      <td>Spayed Female</td>\n",
       "      <td>5 years</td>\n",
       "      <td>Domestic Shorthair Mix</td>\n",
       "      <td>Calico</td>\n",
       "    </tr>\n",
       "    <tr>\n",
       "      <th>98786</th>\n",
       "      <td>A664285</td>\n",
       "      <td>NaN</td>\n",
       "      <td>10/02/2013 11:03:00 AM</td>\n",
       "      <td>10/02/2013 11:03:00 AM</td>\n",
       "      <td>10/01/2013</td>\n",
       "      <td>Died</td>\n",
       "      <td>In Foster</td>\n",
       "      <td>Cat</td>\n",
       "      <td>Intact Male</td>\n",
       "      <td>1 day</td>\n",
       "      <td>Domestic Shorthair Mix</td>\n",
       "      <td>Black</td>\n",
       "    </tr>\n",
       "    <tr>\n",
       "      <th>98787</th>\n",
       "      <td>A664284</td>\n",
       "      <td>NaN</td>\n",
       "      <td>10/02/2013 11:02:00 AM</td>\n",
       "      <td>10/02/2013 11:02:00 AM</td>\n",
       "      <td>10/01/2013</td>\n",
       "      <td>Died</td>\n",
       "      <td>In Foster</td>\n",
       "      <td>Cat</td>\n",
       "      <td>Intact Male</td>\n",
       "      <td>1 day</td>\n",
       "      <td>Domestic Shorthair Mix</td>\n",
       "      <td>Black/White</td>\n",
       "    </tr>\n",
       "    <tr>\n",
       "      <th>98789</th>\n",
       "      <td>A664329</td>\n",
       "      <td>NaN</td>\n",
       "      <td>10/02/2013 09:21:00 AM</td>\n",
       "      <td>10/02/2013 09:21:00 AM</td>\n",
       "      <td>08/18/2013</td>\n",
       "      <td>Euthanasia</td>\n",
       "      <td>Suffering</td>\n",
       "      <td>Cat</td>\n",
       "      <td>Intact Male</td>\n",
       "      <td>1 month</td>\n",
       "      <td>Domestic Shorthair Mix</td>\n",
       "      <td>Black/White</td>\n",
       "    </tr>\n",
       "    <tr>\n",
       "      <th>98792</th>\n",
       "      <td>A664111</td>\n",
       "      <td>*Izzy</td>\n",
       "      <td>10/01/2013 06:54:00 PM</td>\n",
       "      <td>10/01/2013 06:54:00 PM</td>\n",
       "      <td>04/01/2013</td>\n",
       "      <td>Adoption</td>\n",
       "      <td>NaN</td>\n",
       "      <td>Cat</td>\n",
       "      <td>Spayed Female</td>\n",
       "      <td>6 months</td>\n",
       "      <td>Domestic Shorthair Mix</td>\n",
       "      <td>Blue Tabby/White</td>\n",
       "    </tr>\n",
       "    <tr>\n",
       "      <th>98793</th>\n",
       "      <td>A664313</td>\n",
       "      <td>NaN</td>\n",
       "      <td>10/01/2013 06:33:00 PM</td>\n",
       "      <td>10/01/2013 06:33:00 PM</td>\n",
       "      <td>09/24/2013</td>\n",
       "      <td>Transfer</td>\n",
       "      <td>Partner</td>\n",
       "      <td>Cat</td>\n",
       "      <td>Intact Female</td>\n",
       "      <td>1 week</td>\n",
       "      <td>Domestic Shorthair Mix</td>\n",
       "      <td>Tortie</td>\n",
       "    </tr>\n",
       "    <tr>\n",
       "      <th>98797</th>\n",
       "      <td>A664288</td>\n",
       "      <td>NaN</td>\n",
       "      <td>10/01/2013 06:02:00 PM</td>\n",
       "      <td>10/01/2013 06:02:00 PM</td>\n",
       "      <td>10/01/2011</td>\n",
       "      <td>Euthanasia</td>\n",
       "      <td>Suffering</td>\n",
       "      <td>Cat</td>\n",
       "      <td>Intact Male</td>\n",
       "      <td>2 years</td>\n",
       "      <td>Domestic Shorthair Mix</td>\n",
       "      <td>Blue/White</td>\n",
       "    </tr>\n",
       "    <tr>\n",
       "      <th>98798</th>\n",
       "      <td>A661830</td>\n",
       "      <td>Amalia</td>\n",
       "      <td>10/01/2013 05:58:00 PM</td>\n",
       "      <td>10/01/2013 05:58:00 PM</td>\n",
       "      <td>08/25/2012</td>\n",
       "      <td>Transfer</td>\n",
       "      <td>SCRP</td>\n",
       "      <td>Cat</td>\n",
       "      <td>Intact Female</td>\n",
       "      <td>1 year</td>\n",
       "      <td>Domestic Medium Hair Mix</td>\n",
       "      <td>Torbie</td>\n",
       "    </tr>\n",
       "    <tr>\n",
       "      <th>98801</th>\n",
       "      <td>A663920</td>\n",
       "      <td>Sparkle</td>\n",
       "      <td>10/01/2013 04:53:00 PM</td>\n",
       "      <td>10/01/2013 04:53:00 PM</td>\n",
       "      <td>07/19/2013</td>\n",
       "      <td>Adoption</td>\n",
       "      <td>NaN</td>\n",
       "      <td>Cat</td>\n",
       "      <td>Spayed Female</td>\n",
       "      <td>2 months</td>\n",
       "      <td>Snowshoe Mix</td>\n",
       "      <td>Blue Point</td>\n",
       "    </tr>\n",
       "    <tr>\n",
       "      <th>98802</th>\n",
       "      <td>A661933</td>\n",
       "      <td>*Nutella</td>\n",
       "      <td>10/01/2013 04:49:00 PM</td>\n",
       "      <td>10/01/2013 04:49:00 PM</td>\n",
       "      <td>09/19/2003</td>\n",
       "      <td>Euthanasia</td>\n",
       "      <td>Suffering</td>\n",
       "      <td>Cat</td>\n",
       "      <td>Spayed Female</td>\n",
       "      <td>10 years</td>\n",
       "      <td>Domestic Shorthair Mix</td>\n",
       "      <td>Blue Tabby</td>\n",
       "    </tr>\n",
       "    <tr>\n",
       "      <th>98803</th>\n",
       "      <td>A664238</td>\n",
       "      <td>NaN</td>\n",
       "      <td>10/01/2013 04:47:00 PM</td>\n",
       "      <td>10/01/2013 04:47:00 PM</td>\n",
       "      <td>06/01/2013</td>\n",
       "      <td>Euthanasia</td>\n",
       "      <td>Medical</td>\n",
       "      <td>Cat</td>\n",
       "      <td>Unknown</td>\n",
       "      <td>4 months</td>\n",
       "      <td>American Shorthair Mix</td>\n",
       "      <td>Black/White</td>\n",
       "    </tr>\n",
       "    <tr>\n",
       "      <th>98804</th>\n",
       "      <td>A660634</td>\n",
       "      <td>*Fauna</td>\n",
       "      <td>10/01/2013 04:17:00 PM</td>\n",
       "      <td>10/01/2013 04:17:00 PM</td>\n",
       "      <td>07/09/2013</td>\n",
       "      <td>Adoption</td>\n",
       "      <td>NaN</td>\n",
       "      <td>Cat</td>\n",
       "      <td>Spayed Female</td>\n",
       "      <td>2 months</td>\n",
       "      <td>Domestic Shorthair</td>\n",
       "      <td>Blue/White</td>\n",
       "    </tr>\n",
       "    <tr>\n",
       "      <th>98805</th>\n",
       "      <td>A664218</td>\n",
       "      <td>NaN</td>\n",
       "      <td>10/01/2013 04:11:00 PM</td>\n",
       "      <td>10/01/2013 04:11:00 PM</td>\n",
       "      <td>03/30/2013</td>\n",
       "      <td>Transfer</td>\n",
       "      <td>SCRP</td>\n",
       "      <td>Cat</td>\n",
       "      <td>Neutered Male</td>\n",
       "      <td>6 months</td>\n",
       "      <td>Domestic Medium Hair Mix</td>\n",
       "      <td>Blue Tabby/White</td>\n",
       "    </tr>\n",
       "    <tr>\n",
       "      <th>98806</th>\n",
       "      <td>A664217</td>\n",
       "      <td>NaN</td>\n",
       "      <td>10/01/2013 04:11:00 PM</td>\n",
       "      <td>10/01/2013 04:11:00 PM</td>\n",
       "      <td>09/30/2012</td>\n",
       "      <td>Transfer</td>\n",
       "      <td>SCRP</td>\n",
       "      <td>Cat</td>\n",
       "      <td>Intact Female</td>\n",
       "      <td>1 year</td>\n",
       "      <td>Domestic Shorthair Mix</td>\n",
       "      <td>Orange Tabby/White</td>\n",
       "    </tr>\n",
       "    <tr>\n",
       "      <th>98807</th>\n",
       "      <td>A663605</td>\n",
       "      <td>*Joe</td>\n",
       "      <td>10/01/2013 04:05:00 PM</td>\n",
       "      <td>10/01/2013 04:05:00 PM</td>\n",
       "      <td>06/06/2013</td>\n",
       "      <td>Return to Owner</td>\n",
       "      <td>NaN</td>\n",
       "      <td>Cat</td>\n",
       "      <td>Neutered Male</td>\n",
       "      <td>3 months</td>\n",
       "      <td>Domestic Shorthair Mix</td>\n",
       "      <td>Brown Tabby/White</td>\n",
       "    </tr>\n",
       "    <tr>\n",
       "      <th>98819</th>\n",
       "      <td>A664260</td>\n",
       "      <td>NaN</td>\n",
       "      <td>10/01/2013 01:00:00 PM</td>\n",
       "      <td>10/01/2013 01:00:00 PM</td>\n",
       "      <td>09/10/2013</td>\n",
       "      <td>Transfer</td>\n",
       "      <td>Partner</td>\n",
       "      <td>Cat</td>\n",
       "      <td>Intact Female</td>\n",
       "      <td>3 weeks</td>\n",
       "      <td>Domestic Shorthair Mix</td>\n",
       "      <td>Black/White</td>\n",
       "    </tr>\n",
       "    <tr>\n",
       "      <th>98820</th>\n",
       "      <td>A664261</td>\n",
       "      <td>NaN</td>\n",
       "      <td>10/01/2013 01:00:00 PM</td>\n",
       "      <td>10/01/2013 01:00:00 PM</td>\n",
       "      <td>09/10/2013</td>\n",
       "      <td>Transfer</td>\n",
       "      <td>Partner</td>\n",
       "      <td>Cat</td>\n",
       "      <td>Intact Female</td>\n",
       "      <td>3 weeks</td>\n",
       "      <td>Domestic Shorthair Mix</td>\n",
       "      <td>Tortie</td>\n",
       "    </tr>\n",
       "    <tr>\n",
       "      <th>98821</th>\n",
       "      <td>A664262</td>\n",
       "      <td>NaN</td>\n",
       "      <td>10/01/2013 12:59:00 PM</td>\n",
       "      <td>10/01/2013 12:59:00 PM</td>\n",
       "      <td>09/22/2013</td>\n",
       "      <td>Transfer</td>\n",
       "      <td>Partner</td>\n",
       "      <td>Cat</td>\n",
       "      <td>Intact Male</td>\n",
       "      <td>1 weeks</td>\n",
       "      <td>Domestic Shorthair Mix</td>\n",
       "      <td>Orange Tabby</td>\n",
       "    </tr>\n",
       "    <tr>\n",
       "      <th>98822</th>\n",
       "      <td>A664263</td>\n",
       "      <td>NaN</td>\n",
       "      <td>10/01/2013 12:58:00 PM</td>\n",
       "      <td>10/01/2013 12:58:00 PM</td>\n",
       "      <td>09/22/2013</td>\n",
       "      <td>Transfer</td>\n",
       "      <td>Partner</td>\n",
       "      <td>Cat</td>\n",
       "      <td>Intact Male</td>\n",
       "      <td>1 weeks</td>\n",
       "      <td>Domestic Shorthair Mix</td>\n",
       "      <td>Orange Tabby</td>\n",
       "    </tr>\n",
       "    <tr>\n",
       "      <th>98823</th>\n",
       "      <td>A664271</td>\n",
       "      <td>NaN</td>\n",
       "      <td>10/01/2013 12:57:00 PM</td>\n",
       "      <td>10/01/2013 12:57:00 PM</td>\n",
       "      <td>09/24/2013</td>\n",
       "      <td>Transfer</td>\n",
       "      <td>Partner</td>\n",
       "      <td>Cat</td>\n",
       "      <td>Intact Female</td>\n",
       "      <td>1 week</td>\n",
       "      <td>Domestic Shorthair Mix</td>\n",
       "      <td>Orange Tabby</td>\n",
       "    </tr>\n",
       "    <tr>\n",
       "      <th>98824</th>\n",
       "      <td>A663495</td>\n",
       "      <td>Pikachu</td>\n",
       "      <td>10/01/2013 12:45:00 PM</td>\n",
       "      <td>10/01/2013 12:45:00 PM</td>\n",
       "      <td>05/19/2013</td>\n",
       "      <td>Return to Owner</td>\n",
       "      <td>NaN</td>\n",
       "      <td>Cat</td>\n",
       "      <td>Spayed Female</td>\n",
       "      <td>4 months</td>\n",
       "      <td>Domestic Shorthair Mix</td>\n",
       "      <td>Torbie</td>\n",
       "    </tr>\n",
       "    <tr>\n",
       "      <th>98825</th>\n",
       "      <td>A664219</td>\n",
       "      <td>NaN</td>\n",
       "      <td>10/01/2013 12:34:00 PM</td>\n",
       "      <td>10/01/2013 12:34:00 PM</td>\n",
       "      <td>08/08/2013</td>\n",
       "      <td>Died</td>\n",
       "      <td>In Kennel</td>\n",
       "      <td>Cat</td>\n",
       "      <td>Intact Male</td>\n",
       "      <td>1 month</td>\n",
       "      <td>Domestic Shorthair Mix</td>\n",
       "      <td>Blue/White</td>\n",
       "    </tr>\n",
       "    <tr>\n",
       "      <th>98832</th>\n",
       "      <td>A656894</td>\n",
       "      <td>Jake</td>\n",
       "      <td>10/01/2013 11:53:00 AM</td>\n",
       "      <td>10/01/2013 11:53:00 AM</td>\n",
       "      <td>04/22/2013</td>\n",
       "      <td>Adoption</td>\n",
       "      <td>NaN</td>\n",
       "      <td>Cat</td>\n",
       "      <td>Neutered Male</td>\n",
       "      <td>5 months</td>\n",
       "      <td>Domestic Shorthair Mix</td>\n",
       "      <td>Black</td>\n",
       "    </tr>\n",
       "    <tr>\n",
       "      <th>98833</th>\n",
       "      <td>A661795</td>\n",
       "      <td>Blakie</td>\n",
       "      <td>10/01/2013 11:53:00 AM</td>\n",
       "      <td>10/01/2013 11:53:00 AM</td>\n",
       "      <td>03/25/2013</td>\n",
       "      <td>Adoption</td>\n",
       "      <td>NaN</td>\n",
       "      <td>Cat</td>\n",
       "      <td>Spayed Female</td>\n",
       "      <td>6 months</td>\n",
       "      <td>Domestic Shorthair Mix</td>\n",
       "      <td>Tortie</td>\n",
       "    </tr>\n",
       "    <tr>\n",
       "      <th>98839</th>\n",
       "      <td>A664237</td>\n",
       "      <td>NaN</td>\n",
       "      <td>10/01/2013 10:44:00 AM</td>\n",
       "      <td>10/01/2013 10:44:00 AM</td>\n",
       "      <td>09/24/2013</td>\n",
       "      <td>Transfer</td>\n",
       "      <td>Partner</td>\n",
       "      <td>Cat</td>\n",
       "      <td>Unknown</td>\n",
       "      <td>1 week</td>\n",
       "      <td>Domestic Shorthair Mix</td>\n",
       "      <td>Orange/White</td>\n",
       "    </tr>\n",
       "    <tr>\n",
       "      <th>98840</th>\n",
       "      <td>A664236</td>\n",
       "      <td>NaN</td>\n",
       "      <td>10/01/2013 10:44:00 AM</td>\n",
       "      <td>10/01/2013 10:44:00 AM</td>\n",
       "      <td>09/24/2013</td>\n",
       "      <td>Transfer</td>\n",
       "      <td>Partner</td>\n",
       "      <td>Cat</td>\n",
       "      <td>Unknown</td>\n",
       "      <td>1 week</td>\n",
       "      <td>Domestic Shorthair Mix</td>\n",
       "      <td>Orange/White</td>\n",
       "    </tr>\n",
       "    <tr>\n",
       "      <th>98841</th>\n",
       "      <td>A664235</td>\n",
       "      <td>NaN</td>\n",
       "      <td>10/01/2013 10:39:00 AM</td>\n",
       "      <td>10/01/2013 10:39:00 AM</td>\n",
       "      <td>09/24/2013</td>\n",
       "      <td>Transfer</td>\n",
       "      <td>Partner</td>\n",
       "      <td>Cat</td>\n",
       "      <td>Unknown</td>\n",
       "      <td>1 week</td>\n",
       "      <td>Domestic Shorthair Mix</td>\n",
       "      <td>Orange/White</td>\n",
       "    </tr>\n",
       "  </tbody>\n",
       "</table>\n",
       "<p>36450 rows × 12 columns</p>\n",
       "</div>"
      ],
      "text/plain": [
       "      Animal ID         Name                DateTime               MonthYear  \\\n",
       "2       A793355          NaN  04/24/2019 01:49:00 PM  04/24/2019 01:49:00 PM   \n",
       "3       A793356          NaN  04/24/2019 01:49:00 PM  04/24/2019 01:49:00 PM   \n",
       "4       A793358          NaN  04/24/2019 01:49:00 PM  04/24/2019 01:49:00 PM   \n",
       "5       A793354          NaN  04/24/2019 01:49:00 PM  04/24/2019 01:49:00 PM   \n",
       "6       A793353          NaN  04/24/2019 01:49:00 PM  04/24/2019 01:49:00 PM   \n",
       "7       A793357          NaN  04/24/2019 01:49:00 PM  04/24/2019 01:49:00 PM   \n",
       "9       A793366          NaN  04/24/2019 12:58:00 PM  04/24/2019 12:58:00 PM   \n",
       "12      A793371          NaN  04/24/2019 12:19:00 PM  04/24/2019 12:19:00 PM   \n",
       "32      A791238         Luna  04/23/2019 06:39:00 PM  04/23/2019 06:39:00 PM   \n",
       "35      A792171       Jasper  04/23/2019 06:20:00 PM  04/23/2019 06:20:00 PM   \n",
       "36      A793345          NaN  04/23/2019 06:15:00 PM  04/23/2019 06:15:00 PM   \n",
       "37      A793343          NaN  04/23/2019 06:15:00 PM  04/23/2019 06:15:00 PM   \n",
       "38      A793344          NaN  04/23/2019 06:15:00 PM  04/23/2019 06:15:00 PM   \n",
       "39      A793341          NaN  04/23/2019 06:14:00 PM  04/23/2019 06:14:00 PM   \n",
       "40      A793340          NaN  04/23/2019 06:14:00 PM  04/23/2019 06:14:00 PM   \n",
       "41      A793338          NaN  04/23/2019 06:14:00 PM  04/23/2019 06:14:00 PM   \n",
       "42      A793339          NaN  04/23/2019 06:14:00 PM  04/23/2019 06:14:00 PM   \n",
       "43      A793342          NaN  04/23/2019 06:13:00 PM  04/23/2019 06:13:00 PM   \n",
       "45      A793301          NaN  04/23/2019 05:54:00 PM  04/23/2019 05:54:00 PM   \n",
       "49      A793137          NaN  04/23/2019 04:58:00 PM  04/23/2019 04:58:00 PM   \n",
       "50      A792524          NaN  04/23/2019 04:54:00 PM  04/23/2019 04:54:00 PM   \n",
       "51      A791242         Ruby  04/23/2019 04:44:00 PM  04/23/2019 04:44:00 PM   \n",
       "54      A791240       Shadow  04/23/2019 04:33:00 PM  04/23/2019 04:33:00 PM   \n",
       "58      A791241        Simon  04/23/2019 04:11:00 PM  04/23/2019 04:11:00 PM   \n",
       "63      A792395          Mia  04/23/2019 03:40:00 PM  04/23/2019 03:40:00 PM   \n",
       "65      A793157        Randy  04/23/2019 03:00:00 PM  04/23/2019 03:00:00 PM   \n",
       "66      A793286        Kitty  04/23/2019 02:56:00 PM  04/23/2019 02:56:00 PM   \n",
       "82      A793262          NaN  04/23/2019 11:21:00 AM  04/23/2019 11:21:00 AM   \n",
       "83      A793263          NaN  04/23/2019 11:21:00 AM  04/23/2019 11:21:00 AM   \n",
       "84      A793261     *Ophelia  04/23/2019 11:21:00 AM  04/23/2019 11:21:00 AM   \n",
       "...         ...          ...                     ...                     ...   \n",
       "98775   A664059       Sylvia  10/02/2013 01:50:00 PM  10/02/2013 01:50:00 PM   \n",
       "98776   A664060       Raisin  10/02/2013 01:49:00 PM  10/02/2013 01:49:00 PM   \n",
       "98781   A657196  *Salamander  10/02/2013 12:05:00 PM  10/02/2013 12:05:00 PM   \n",
       "98783   A661383     *Mirabai  10/02/2013 11:35:00 AM  10/02/2013 11:35:00 AM   \n",
       "98786   A664285          NaN  10/02/2013 11:03:00 AM  10/02/2013 11:03:00 AM   \n",
       "98787   A664284          NaN  10/02/2013 11:02:00 AM  10/02/2013 11:02:00 AM   \n",
       "98789   A664329          NaN  10/02/2013 09:21:00 AM  10/02/2013 09:21:00 AM   \n",
       "98792   A664111        *Izzy  10/01/2013 06:54:00 PM  10/01/2013 06:54:00 PM   \n",
       "98793   A664313          NaN  10/01/2013 06:33:00 PM  10/01/2013 06:33:00 PM   \n",
       "98797   A664288          NaN  10/01/2013 06:02:00 PM  10/01/2013 06:02:00 PM   \n",
       "98798   A661830       Amalia  10/01/2013 05:58:00 PM  10/01/2013 05:58:00 PM   \n",
       "98801   A663920      Sparkle  10/01/2013 04:53:00 PM  10/01/2013 04:53:00 PM   \n",
       "98802   A661933     *Nutella  10/01/2013 04:49:00 PM  10/01/2013 04:49:00 PM   \n",
       "98803   A664238          NaN  10/01/2013 04:47:00 PM  10/01/2013 04:47:00 PM   \n",
       "98804   A660634       *Fauna  10/01/2013 04:17:00 PM  10/01/2013 04:17:00 PM   \n",
       "98805   A664218          NaN  10/01/2013 04:11:00 PM  10/01/2013 04:11:00 PM   \n",
       "98806   A664217          NaN  10/01/2013 04:11:00 PM  10/01/2013 04:11:00 PM   \n",
       "98807   A663605         *Joe  10/01/2013 04:05:00 PM  10/01/2013 04:05:00 PM   \n",
       "98819   A664260          NaN  10/01/2013 01:00:00 PM  10/01/2013 01:00:00 PM   \n",
       "98820   A664261          NaN  10/01/2013 01:00:00 PM  10/01/2013 01:00:00 PM   \n",
       "98821   A664262          NaN  10/01/2013 12:59:00 PM  10/01/2013 12:59:00 PM   \n",
       "98822   A664263          NaN  10/01/2013 12:58:00 PM  10/01/2013 12:58:00 PM   \n",
       "98823   A664271          NaN  10/01/2013 12:57:00 PM  10/01/2013 12:57:00 PM   \n",
       "98824   A663495      Pikachu  10/01/2013 12:45:00 PM  10/01/2013 12:45:00 PM   \n",
       "98825   A664219          NaN  10/01/2013 12:34:00 PM  10/01/2013 12:34:00 PM   \n",
       "98832   A656894         Jake  10/01/2013 11:53:00 AM  10/01/2013 11:53:00 AM   \n",
       "98833   A661795       Blakie  10/01/2013 11:53:00 AM  10/01/2013 11:53:00 AM   \n",
       "98839   A664237          NaN  10/01/2013 10:44:00 AM  10/01/2013 10:44:00 AM   \n",
       "98840   A664236          NaN  10/01/2013 10:44:00 AM  10/01/2013 10:44:00 AM   \n",
       "98841   A664235          NaN  10/01/2013 10:39:00 AM  10/01/2013 10:39:00 AM   \n",
       "\n",
       "      Date of Birth     Outcome Type Outcome Subtype Animal Type  \\\n",
       "2        03/15/2019         Transfer         Partner         Cat   \n",
       "3        03/15/2019         Transfer         Partner         Cat   \n",
       "4        03/15/2019         Transfer         Partner         Cat   \n",
       "5        03/15/2019         Transfer         Partner         Cat   \n",
       "6        04/23/2017         Transfer         Partner         Cat   \n",
       "7        03/15/2019         Transfer         Partner         Cat   \n",
       "9        04/23/2016  Return to Owner             NaN         Cat   \n",
       "12       04/24/2017       Euthanasia       Suffering         Cat   \n",
       "32       02/23/2019         Adoption          Foster         Cat   \n",
       "35       10/07/2008         Adoption             NaN         Cat   \n",
       "36       04/08/2019         Transfer         Partner         Cat   \n",
       "37       04/08/2019         Transfer         Partner         Cat   \n",
       "38       04/08/2019         Transfer         Partner         Cat   \n",
       "39       04/21/2019         Transfer         Partner         Cat   \n",
       "40       04/21/2019         Transfer         Partner         Cat   \n",
       "41       04/21/2019         Transfer         Partner         Cat   \n",
       "42       04/21/2019         Transfer         Partner         Cat   \n",
       "43       04/21/2019         Transfer         Partner         Cat   \n",
       "45       04/15/2019         Transfer         Partner         Cat   \n",
       "49       04/20/2018             Died       In Kennel         Cat   \n",
       "50       01/27/2019         Adoption             NaN         Cat   \n",
       "51       02/23/2019         Adoption          Foster         Cat   \n",
       "54       02/23/2019         Adoption          Foster         Cat   \n",
       "58       02/23/2019         Adoption          Foster         Cat   \n",
       "63       04/10/2018         Adoption             NaN         Cat   \n",
       "65       04/20/2016         Adoption             NaN         Cat   \n",
       "66       04/23/2015  Return to Owner             NaN         Cat   \n",
       "82       04/21/2019         Transfer         Partner         Cat   \n",
       "83       04/21/2019         Transfer         Partner         Cat   \n",
       "84       04/22/2018         Transfer         Partner         Cat   \n",
       "...             ...              ...             ...         ...   \n",
       "98775    09/28/2005  Return to Owner             NaN         Cat   \n",
       "98776    09/28/2005  Return to Owner             NaN         Cat   \n",
       "98781    05/12/2013         Adoption             NaN         Cat   \n",
       "98783    08/20/2008         Transfer         Partner         Cat   \n",
       "98786    10/01/2013             Died       In Foster         Cat   \n",
       "98787    10/01/2013             Died       In Foster         Cat   \n",
       "98789    08/18/2013       Euthanasia       Suffering         Cat   \n",
       "98792    04/01/2013         Adoption             NaN         Cat   \n",
       "98793    09/24/2013         Transfer         Partner         Cat   \n",
       "98797    10/01/2011       Euthanasia       Suffering         Cat   \n",
       "98798    08/25/2012         Transfer            SCRP         Cat   \n",
       "98801    07/19/2013         Adoption             NaN         Cat   \n",
       "98802    09/19/2003       Euthanasia       Suffering         Cat   \n",
       "98803    06/01/2013       Euthanasia         Medical         Cat   \n",
       "98804    07/09/2013         Adoption             NaN         Cat   \n",
       "98805    03/30/2013         Transfer            SCRP         Cat   \n",
       "98806    09/30/2012         Transfer            SCRP         Cat   \n",
       "98807    06/06/2013  Return to Owner             NaN         Cat   \n",
       "98819    09/10/2013         Transfer         Partner         Cat   \n",
       "98820    09/10/2013         Transfer         Partner         Cat   \n",
       "98821    09/22/2013         Transfer         Partner         Cat   \n",
       "98822    09/22/2013         Transfer         Partner         Cat   \n",
       "98823    09/24/2013         Transfer         Partner         Cat   \n",
       "98824    05/19/2013  Return to Owner             NaN         Cat   \n",
       "98825    08/08/2013             Died       In Kennel         Cat   \n",
       "98832    04/22/2013         Adoption             NaN         Cat   \n",
       "98833    03/25/2013         Adoption             NaN         Cat   \n",
       "98839    09/24/2013         Transfer         Partner         Cat   \n",
       "98840    09/24/2013         Transfer         Partner         Cat   \n",
       "98841    09/24/2013         Transfer         Partner         Cat   \n",
       "\n",
       "      Sex upon Outcome Age upon Outcome                     Breed  \\\n",
       "2        Intact Female          1 month    Domestic Shorthair Mix   \n",
       "3          Intact Male          1 month    Domestic Shorthair Mix   \n",
       "4        Intact Female          1 month    Domestic Shorthair Mix   \n",
       "5        Intact Female          1 month    Domestic Shorthair Mix   \n",
       "6        Intact Female          2 years    Domestic Shorthair Mix   \n",
       "7          Intact Male          1 month    Domestic Shorthair Mix   \n",
       "9          Intact Male          3 years    Domestic Shorthair Mix   \n",
       "12         Intact Male              NaN    Domestic Shorthair Mix   \n",
       "32       Spayed Female          1 month               Ragdoll Mix   \n",
       "35       Neutered Male         10 years  Domestic Medium Hair Mix   \n",
       "36             Unknown          2 weeks    Domestic Shorthair Mix   \n",
       "37             Unknown          2 weeks    Domestic Shorthair Mix   \n",
       "38             Unknown          2 weeks    Domestic Shorthair Mix   \n",
       "39             Unknown           2 days    Domestic Shorthair Mix   \n",
       "40             Unknown           2 days    Domestic Shorthair Mix   \n",
       "41             Unknown           2 days    Domestic Shorthair Mix   \n",
       "42             Unknown           2 days    Domestic Shorthair Mix   \n",
       "43             Unknown           2 days    Domestic Shorthair Mix   \n",
       "45         Intact Male          1 weeks    Domestic Shorthair Mix   \n",
       "49       Spayed Female           1 year    Domestic Shorthair Mix   \n",
       "50       Spayed Female         2 months    Domestic Shorthair Mix   \n",
       "51       Spayed Female          1 month  Domestic Medium Hair Mix   \n",
       "54       Neutered Male          1 month  Domestic Medium Hair Mix   \n",
       "58       Neutered Male          1 month  Domestic Medium Hair Mix   \n",
       "63       Spayed Female           1 year    Domestic Shorthair Mix   \n",
       "65       Neutered Male          3 years    Domestic Shorthair Mix   \n",
       "66       Intact Female          4 years    Domestic Shorthair Mix   \n",
       "82             Unknown           2 days    Domestic Shorthair Mix   \n",
       "83             Unknown           2 days    Domestic Shorthair Mix   \n",
       "84       Intact Female           1 year    Domestic Shorthair Mix   \n",
       "...                ...              ...                       ...   \n",
       "98775    Spayed Female          8 years          Russian Blue Mix   \n",
       "98776    Spayed Female          8 years    Domestic Shorthair Mix   \n",
       "98781    Spayed Female         4 months    Domestic Shorthair Mix   \n",
       "98783    Spayed Female          5 years    Domestic Shorthair Mix   \n",
       "98786      Intact Male            1 day    Domestic Shorthair Mix   \n",
       "98787      Intact Male            1 day    Domestic Shorthair Mix   \n",
       "98789      Intact Male          1 month    Domestic Shorthair Mix   \n",
       "98792    Spayed Female         6 months    Domestic Shorthair Mix   \n",
       "98793    Intact Female           1 week    Domestic Shorthair Mix   \n",
       "98797      Intact Male          2 years    Domestic Shorthair Mix   \n",
       "98798    Intact Female           1 year  Domestic Medium Hair Mix   \n",
       "98801    Spayed Female         2 months              Snowshoe Mix   \n",
       "98802    Spayed Female         10 years    Domestic Shorthair Mix   \n",
       "98803          Unknown         4 months    American Shorthair Mix   \n",
       "98804    Spayed Female         2 months        Domestic Shorthair   \n",
       "98805    Neutered Male         6 months  Domestic Medium Hair Mix   \n",
       "98806    Intact Female           1 year    Domestic Shorthair Mix   \n",
       "98807    Neutered Male         3 months    Domestic Shorthair Mix   \n",
       "98819    Intact Female          3 weeks    Domestic Shorthair Mix   \n",
       "98820    Intact Female          3 weeks    Domestic Shorthair Mix   \n",
       "98821      Intact Male          1 weeks    Domestic Shorthair Mix   \n",
       "98822      Intact Male          1 weeks    Domestic Shorthair Mix   \n",
       "98823    Intact Female           1 week    Domestic Shorthair Mix   \n",
       "98824    Spayed Female         4 months    Domestic Shorthair Mix   \n",
       "98825      Intact Male          1 month    Domestic Shorthair Mix   \n",
       "98832    Neutered Male         5 months    Domestic Shorthair Mix   \n",
       "98833    Spayed Female         6 months    Domestic Shorthair Mix   \n",
       "98839          Unknown           1 week    Domestic Shorthair Mix   \n",
       "98840          Unknown           1 week    Domestic Shorthair Mix   \n",
       "98841          Unknown           1 week    Domestic Shorthair Mix   \n",
       "\n",
       "                    Color  \n",
       "2            Tortie/White  \n",
       "3             Cream Tabby  \n",
       "4             Blue/Tortie  \n",
       "5                  Tortie  \n",
       "6      Orange Tabby/White  \n",
       "7            Orange Tabby  \n",
       "9             Black/White  \n",
       "12            Brown/Black  \n",
       "32             Lynx Point  \n",
       "35            Brown Tabby  \n",
       "36                  Black  \n",
       "37                 Calico  \n",
       "38                   Blue  \n",
       "39            Brown Tabby  \n",
       "40            Brown Tabby  \n",
       "41            Brown Tabby  \n",
       "42            Brown Tabby  \n",
       "43            Brown Tabby  \n",
       "45            Cream Tabby  \n",
       "49                  Black  \n",
       "50            Brown Tabby  \n",
       "51            Brown Tabby  \n",
       "54                  Black  \n",
       "58            Black/White  \n",
       "63            Black/White  \n",
       "65           Orange Tabby  \n",
       "66                 Tortie  \n",
       "82            Brown Tabby  \n",
       "83      White/Brown Tabby  \n",
       "84      Brown Tabby/White  \n",
       "...                   ...  \n",
       "98775                Blue  \n",
       "98776              Tortie  \n",
       "98781   Brown Tabby/White  \n",
       "98783              Calico  \n",
       "98786               Black  \n",
       "98787         Black/White  \n",
       "98789         Black/White  \n",
       "98792    Blue Tabby/White  \n",
       "98793              Tortie  \n",
       "98797          Blue/White  \n",
       "98798              Torbie  \n",
       "98801          Blue Point  \n",
       "98802          Blue Tabby  \n",
       "98803         Black/White  \n",
       "98804          Blue/White  \n",
       "98805    Blue Tabby/White  \n",
       "98806  Orange Tabby/White  \n",
       "98807   Brown Tabby/White  \n",
       "98819         Black/White  \n",
       "98820              Tortie  \n",
       "98821        Orange Tabby  \n",
       "98822        Orange Tabby  \n",
       "98823        Orange Tabby  \n",
       "98824              Torbie  \n",
       "98825          Blue/White  \n",
       "98832               Black  \n",
       "98833              Tortie  \n",
       "98839        Orange/White  \n",
       "98840        Orange/White  \n",
       "98841        Orange/White  \n",
       "\n",
       "[36450 rows x 12 columns]"
      ]
     },
     "execution_count": 105,
     "metadata": {},
     "output_type": "execute_result"
    }
   ],
   "source": [
    "shelter_data.loc[shelter_data['Animal Type'] == 'Cat']"
   ]
  },
  {
   "cell_type": "markdown",
   "metadata": {},
   "source": [
    "## Assessment & Reflection"
   ]
  }
 ],
 "metadata": {
  "kernelspec": {
   "display_name": "Python 3",
   "language": "python",
   "name": "python3"
  },
  "language_info": {
   "codemirror_mode": {
    "name": "ipython",
    "version": 3
   },
   "file_extension": ".py",
   "mimetype": "text/x-python",
   "name": "python",
   "nbconvert_exporter": "python",
   "pygments_lexer": "ipython3",
   "version": "3.7.3"
  }
 },
 "nbformat": 4,
 "nbformat_minor": 2
}
